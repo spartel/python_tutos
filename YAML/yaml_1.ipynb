{
 "cells": [
  {
   "cell_type": "code",
   "execution_count": 58,
   "metadata": {},
   "outputs": [],
   "source": [
    "import yaml\n",
    "import requests\n",
    "import datetime"
   ]
  },
  {
   "cell_type": "markdown",
   "metadata": {},
   "source": [
    "## 1er test de récupération d'un fichier YAML"
   ]
  },
  {
   "cell_type": "code",
   "execution_count": 3,
   "metadata": {},
   "outputs": [
    {
     "name": "stdout",
     "output_type": "stream",
     "text": [
      "{'date': '2020-01-24', 'source': {'nom': 'Santé publique France', 'url': 'https://www.santepubliquefrance.fr/maladies-et-traumatismes/maladies-et-infections-respiratoires/infection-a-coronavirus/articles/cas-de-pneumonies-associees-a-un-nouveau-coronavirus-2019-ncov-a-wuhan-en-chine', 'archive': 'https://web.archive.org/web/20200124202351/https://www.santepubliquefrance.fr/maladies-et-traumatismes/maladies-et-infections-respiratoires/infection-a-coronavirus/articles/cas-de-pneumonies-associees-a-un-nouveau-coronavirus-2019-ncov-a-wuhan-en-chine'}, 'donneesNationales': {'casConfirmes': 3, 'hospitalises': 3, 'deces': 0}, 'donneesRegionales': [{'nom': 'Ile-de-France', 'code': 'REG-11', 'casConfirmes': 2, 'hospitalises': 2}, {'nom': 'Nouvelle-Aquitaine', 'code': 'REG-75', 'casConfirmes': 1, 'hospitalises': 1, 'donneesRegionales': None}], 'donneesDepartementales': [{'nom': 'Gironde', 'code': 'DEP-33', 'casConfirmes': 1, 'hospitalises': 1}], 'donneesMondiales': {'paysTouches': 8, 'casConfirmes': 897, 'deces': 26}}\n"
     ]
    }
   ],
   "source": [
    "with open('2020-01-24.yaml') as f:\n",
    "    data = yaml.load(f, Loader=yaml.FullLoader)\n",
    "    print(data)"
   ]
  },
  {
   "cell_type": "code",
   "execution_count": 6,
   "metadata": {},
   "outputs": [
    {
     "name": "stdout",
     "output_type": "stream",
     "text": [
      "2020-01-24\n"
     ]
    }
   ],
   "source": [
    "data[\"date\"]"
   ]
  },
  {
   "cell_type": "code",
   "execution_count": 8,
   "metadata": {},
   "outputs": [
    {
     "data": {
      "text/plain": [
       "{'casConfirmes': 3, 'hospitalises': 3, 'deces': 0}"
      ]
     },
     "execution_count": 8,
     "metadata": {},
     "output_type": "execute_result"
    }
   ],
   "source": [
    "data[\"donneesNationales\"]"
   ]
  },
  {
   "cell_type": "code",
   "execution_count": 9,
   "metadata": {},
   "outputs": [
    {
     "data": {
      "text/plain": [
       "3"
      ]
     },
     "execution_count": 9,
     "metadata": {},
     "output_type": "execute_result"
    }
   ],
   "source": [
    "data[\"donneesNationales\"][\"casConfirmes\"]"
   ]
  },
  {
   "cell_type": "markdown",
   "metadata": {},
   "source": [
    "## Automatisation de la récupération des données"
   ]
  },
  {
   "cell_type": "code",
   "execution_count": 17,
   "metadata": {},
   "outputs": [
    {
     "data": {
      "text/plain": [
       "200"
      ]
     },
     "execution_count": 17,
     "metadata": {},
     "output_type": "execute_result"
    }
   ],
   "source": [
    "r = requests.get('https://raw.githubusercontent.com/opencovid19-fr/data/master/sante-publique-france/2020-01-24.yaml')\n",
    "r.status_code"
   ]
  },
  {
   "cell_type": "code",
   "execution_count": 18,
   "metadata": {},
   "outputs": [
    {
     "data": {
      "text/plain": [
       "'date: \"2020-01-24\"\\nsource:\\n  nom: Santé publique France\\n  url: https://www.santepubliquefrance.fr/maladies-et-traumatismes/maladies-et-infections-respiratoires/infection-a-coronavirus/articles/cas-de-pneumonies-associees-a-un-nouveau-coronavirus-2019-ncov-a-wuhan-en-chine\\n  archive: https://web.archive.org/web/20200124202351/https://www.santepubliquefrance.fr/maladies-et-traumatismes/maladies-et-infections-respiratoires/infection-a-coronavirus/articles/cas-de-pneumonies-associees-a-un-nouveau-coronavirus-2019-ncov-a-wuhan-en-chine\\ndonneesNationales: # Voir archive 2 en bas de page (après le bulletin du 12/02)\\n  casConfirmes: 3 # cas mise à jour suite à la publication du 27/01 de la SPF qui mentionnent ces 3 cas comme existant depuis le 24/01\\n  hospitalises: 3\\n  deces: 0\\ndonneesRegionales: # Voir archive 2 en bas de page (après le bulletin du 12/02)\\n  - nom: Ile-de-France\\n    code: REG-11\\n    casConfirmes: 2\\n    hospitalises: 2\\n  - nom: Nouvelle-Aquitaine\\n    code: REG-75\\n    casConfirmes: 1\\n    hospitalises: 1\\n    donneesRegionales:\\ndonneesDepartementales: # Voir archive 2 en bas de page (après le bulletin du 12/02)\\n  - nom: Gironde\\n    code: DEP-33\\n    casConfirmes: 1\\n    hospitalises: 1\\ndonneesMondiales:\\n  paysTouches: 8 # Chine, Thaïlande, Singapour, Japon, République de Corée, Vietnam, Taïwan et Etats-Unis\\n  casConfirmes: 897\\n  deces: 26\\n\\n# 2e archive: https://web.archive.org/web/20200212192607/https://www.santepubliquefrance.fr/maladies-et-traumatismes/maladies-et-infections-respiratoires/infection-a-coronavirus/articles/epidemie-de-coronavirus-covid-19-au-depart-de-wuhan-chine\\n'"
      ]
     },
     "execution_count": 18,
     "metadata": {},
     "output_type": "execute_result"
    }
   ],
   "source": [
    "r.text"
   ]
  },
  {
   "cell_type": "code",
   "execution_count": 28,
   "metadata": {},
   "outputs": [],
   "source": [
    "y = yaml.load(r.text, Loader=yaml.FullLoader)"
   ]
  },
  {
   "cell_type": "code",
   "execution_count": 29,
   "metadata": {},
   "outputs": [
    {
     "data": {
      "text/plain": [
       "{'date': datetime.date(2020, 3, 24),\n",
       " 'source': {'nom': 'Santé publique France',\n",
       "  'url': 'https://www.santepubliquefrance.fr/maladies-et-traumatismes/maladies-et-infections-respiratoires/infection-a-coronavirus/articles/infection-au-nouveau-coronavirus-sars-cov-2-covid-19-france-et-monde',\n",
       "  'archive': 'https://web.archive.org/web/20200324193012/https://www.santepubliquefrance.fr/maladies-et-traumatismes/maladies-et-infections-respiratoires/infection-a-coronavirus/articles/infection-au-nouveau-coronavirus-sars-cov-2-covid-19-france-et-monde'},\n",
       " 'donneesNationales': {'casConfirmes': 22302, 'deces': 1100},\n",
       " 'donneesRegionales': [{'nom': 'Auvergne-Rhône-Alpes',\n",
       "   'code': 'REG-84',\n",
       "   'casConfirmes': 1857},\n",
       "  {'nom': 'Bourgogne-Franche-Comté', 'code': 'REG-27', 'casConfirmes': 1510},\n",
       "  {'nom': 'Bretagne', 'code': 'REG-53', 'casConfirmes': 526},\n",
       "  {'nom': 'Centre-Val de Loire', 'code': 'REG-24', 'casConfirmes': 450},\n",
       "  {'nom': 'Corse', 'code': 'REG-94', 'casConfirmes': 217},\n",
       "  {'nom': 'Grand-Est', 'code': 'REG-44', 'casConfirmes': 4922},\n",
       "  {'nom': 'Hauts-de-France', 'code': 'REG-32', 'casConfirmes': 1532},\n",
       "  {'nom': 'Ile-de-France', 'code': 'REG-11', 'casConfirmes': 6798},\n",
       "  {'nom': 'Normandie', 'code': 'REG-28', 'casConfirmes': 586},\n",
       "  {'nom': 'Nouvelle-Aquitaine', 'code': 'REG-75', 'casConfirmes': 789},\n",
       "  {'nom': 'Occitanie', 'code': 'REG-76', 'casConfirmes': 900},\n",
       "  {'nom': 'Pays de la Loire', 'code': 'REG-52', 'casConfirmes': 343},\n",
       "  {'nom': 'Provence-Alpes-Côte d’Azur',\n",
       "   'code': 'REG-93',\n",
       "   'casConfirmes': 1595},\n",
       "  {'nom': 'Guadeloupe', 'code': 'REG-01', 'casConfirmes': 73},\n",
       "  {'nom': 'Martinique', 'code': 'REG-02', 'casConfirmes': 57},\n",
       "  {'nom': 'Guyane', 'code': 'REG-03', 'casConfirmes': 23},\n",
       "  {'nom': 'La Réunion', 'code': 'REG-04', 'casConfirmes': 83},\n",
       "  {'nom': 'Mayotte', 'code': 'REG-06', 'casConfirmes': 30},\n",
       "  {'nom': 'Saint-Barthélemy', 'code': 'COM-977', 'casConfirmes': 3},\n",
       "  {'nom': 'Saint-Martin', 'code': 'COM-978', 'casConfirmes': 8}],\n",
       " 'donneesMondiales': {'casConfirmes': 378041, 'deces': 16365}}"
      ]
     },
     "execution_count": 29,
     "metadata": {},
     "output_type": "execute_result"
    }
   ],
   "source": [
    "y"
   ]
  },
  {
   "cell_type": "markdown",
   "metadata": {},
   "source": [
    "Avec une seule fonction ..."
   ]
  },
  {
   "cell_type": "code",
   "execution_count": 27,
   "metadata": {},
   "outputs": [
    {
     "name": "stdout",
     "output_type": "stream",
     "text": [
      "{'date': datetime.date(2020, 3, 24), 'source': {'nom': 'Santé publique France', 'url': 'https://www.santepubliquefrance.fr/maladies-et-traumatismes/maladies-et-infections-respiratoires/infection-a-coronavirus/articles/infection-au-nouveau-coronavirus-sars-cov-2-covid-19-france-et-monde', 'archive': 'https://web.archive.org/web/20200324193012/https://www.santepubliquefrance.fr/maladies-et-traumatismes/maladies-et-infections-respiratoires/infection-a-coronavirus/articles/infection-au-nouveau-coronavirus-sars-cov-2-covid-19-france-et-monde'}, 'donneesNationales': {'casConfirmes': 22302, 'deces': 1100}, 'donneesRegionales': [{'nom': 'Auvergne-Rhône-Alpes', 'code': 'REG-84', 'casConfirmes': 1857}, {'nom': 'Bourgogne-Franche-Comté', 'code': 'REG-27', 'casConfirmes': 1510}, {'nom': 'Bretagne', 'code': 'REG-53', 'casConfirmes': 526}, {'nom': 'Centre-Val de Loire', 'code': 'REG-24', 'casConfirmes': 450}, {'nom': 'Corse', 'code': 'REG-94', 'casConfirmes': 217}, {'nom': 'Grand-Est', 'code': 'REG-44', 'casConfirmes': 4922}, {'nom': 'Hauts-de-France', 'code': 'REG-32', 'casConfirmes': 1532}, {'nom': 'Ile-de-France', 'code': 'REG-11', 'casConfirmes': 6798}, {'nom': 'Normandie', 'code': 'REG-28', 'casConfirmes': 586}, {'nom': 'Nouvelle-Aquitaine', 'code': 'REG-75', 'casConfirmes': 789}, {'nom': 'Occitanie', 'code': 'REG-76', 'casConfirmes': 900}, {'nom': 'Pays de la Loire', 'code': 'REG-52', 'casConfirmes': 343}, {'nom': 'Provence-Alpes-Côte d’Azur', 'code': 'REG-93', 'casConfirmes': 1595}, {'nom': 'Guadeloupe', 'code': 'REG-01', 'casConfirmes': 73}, {'nom': 'Martinique', 'code': 'REG-02', 'casConfirmes': 57}, {'nom': 'Guyane', 'code': 'REG-03', 'casConfirmes': 23}, {'nom': 'La Réunion', 'code': 'REG-04', 'casConfirmes': 83}, {'nom': 'Mayotte', 'code': 'REG-06', 'casConfirmes': 30}, {'nom': 'Saint-Barthélemy', 'code': 'COM-977', 'casConfirmes': 3}, {'nom': 'Saint-Martin', 'code': 'COM-978', 'casConfirmes': 8}], 'donneesMondiales': {'casConfirmes': 378041, 'deces': 16365}}\n"
     ]
    }
   ],
   "source": [
    "r = requests.get('https://raw.githubusercontent.com/opencovid19-fr/data/master/sante-publique-france/2020-03-24.yaml')\n",
    "if (r.status_code==200):\n",
    "    print (yaml.load(r.text, Loader=yaml.FullLoader))"
   ]
  },
  {
   "cell_type": "code",
   "execution_count": 47,
   "metadata": {},
   "outputs": [],
   "source": [
    "hier = datetime.date.today() + datetime.timedelta(-1)\n",
    "shier = hier.strftime(\"%Y-%m-%d\")"
   ]
  },
  {
   "cell_type": "code",
   "execution_count": 48,
   "metadata": {},
   "outputs": [
    {
     "data": {
      "text/plain": [
       "'2020-03-24'"
      ]
     },
     "execution_count": 48,
     "metadata": {},
     "output_type": "execute_result"
    }
   ],
   "source": [
    "shier"
   ]
  },
  {
   "cell_type": "code",
   "execution_count": 49,
   "metadata": {},
   "outputs": [
    {
     "data": {
      "text/plain": [
       "'https://raw.githubusercontent.com/opencovid19-fr/data/master/sante-publique-france/2020-03-24.yaml'"
      ]
     },
     "execution_count": 49,
     "metadata": {},
     "output_type": "execute_result"
    }
   ],
   "source": [
    "fichier = 'https://raw.githubusercontent.com/opencovid19-fr/data/master/sante-publique-france/' + shier + '.yaml'\n",
    "fichier"
   ]
  },
  {
   "cell_type": "markdown",
   "metadata": {},
   "source": [
    "## Création d'une fonction qui récupère les données d'hier sur le Covid19"
   ]
  },
  {
   "cell_type": "code",
   "execution_count": 59,
   "metadata": {},
   "outputs": [],
   "source": [
    "def RecupCovid19Hier():\n",
    "    hier = datetime.date.today() + datetime.timedelta(-1)\n",
    "    shier = hier.strftime(\"%Y-%m-%d\")\n",
    "    fichier = 'https://raw.githubusercontent.com/opencovid19-fr/data/master/sante-publique-france/' + shier + '.yaml'\n",
    "    out = \"\"\n",
    "    r = requests.get(fichier)\n",
    "    if (r.status_code==200):\n",
    "       out = yaml.load(r.text, Loader=yaml.FullLoader)\n",
    "    return out"
   ]
  },
  {
   "cell_type": "code",
   "execution_count": 60,
   "metadata": {},
   "outputs": [
    {
     "data": {
      "text/plain": [
       "{'date': datetime.date(2020, 3, 24),\n",
       " 'source': {'nom': 'Santé publique France',\n",
       "  'url': 'https://www.santepubliquefrance.fr/maladies-et-traumatismes/maladies-et-infections-respiratoires/infection-a-coronavirus/articles/infection-au-nouveau-coronavirus-sars-cov-2-covid-19-france-et-monde',\n",
       "  'archive': 'https://web.archive.org/web/20200324193012/https://www.santepubliquefrance.fr/maladies-et-traumatismes/maladies-et-infections-respiratoires/infection-a-coronavirus/articles/infection-au-nouveau-coronavirus-sars-cov-2-covid-19-france-et-monde'},\n",
       " 'donneesNationales': {'casConfirmes': 22302, 'deces': 1100},\n",
       " 'donneesRegionales': [{'nom': 'Auvergne-Rhône-Alpes',\n",
       "   'code': 'REG-84',\n",
       "   'casConfirmes': 1857},\n",
       "  {'nom': 'Bourgogne-Franche-Comté', 'code': 'REG-27', 'casConfirmes': 1510},\n",
       "  {'nom': 'Bretagne', 'code': 'REG-53', 'casConfirmes': 526},\n",
       "  {'nom': 'Centre-Val de Loire', 'code': 'REG-24', 'casConfirmes': 450},\n",
       "  {'nom': 'Corse', 'code': 'REG-94', 'casConfirmes': 217},\n",
       "  {'nom': 'Grand-Est', 'code': 'REG-44', 'casConfirmes': 4922},\n",
       "  {'nom': 'Hauts-de-France', 'code': 'REG-32', 'casConfirmes': 1532},\n",
       "  {'nom': 'Ile-de-France', 'code': 'REG-11', 'casConfirmes': 6798},\n",
       "  {'nom': 'Normandie', 'code': 'REG-28', 'casConfirmes': 586},\n",
       "  {'nom': 'Nouvelle-Aquitaine', 'code': 'REG-75', 'casConfirmes': 789},\n",
       "  {'nom': 'Occitanie', 'code': 'REG-76', 'casConfirmes': 900},\n",
       "  {'nom': 'Pays de la Loire', 'code': 'REG-52', 'casConfirmes': 343},\n",
       "  {'nom': 'Provence-Alpes-Côte d’Azur',\n",
       "   'code': 'REG-93',\n",
       "   'casConfirmes': 1595},\n",
       "  {'nom': 'Guadeloupe', 'code': 'REG-01', 'casConfirmes': 73},\n",
       "  {'nom': 'Martinique', 'code': 'REG-02', 'casConfirmes': 57},\n",
       "  {'nom': 'Guyane', 'code': 'REG-03', 'casConfirmes': 23},\n",
       "  {'nom': 'La Réunion', 'code': 'REG-04', 'casConfirmes': 83},\n",
       "  {'nom': 'Mayotte', 'code': 'REG-06', 'casConfirmes': 30},\n",
       "  {'nom': 'Saint-Barthélemy', 'code': 'COM-977', 'casConfirmes': 3},\n",
       "  {'nom': 'Saint-Martin', 'code': 'COM-978', 'casConfirmes': 8}],\n",
       " 'donneesMondiales': {'casConfirmes': 378041, 'deces': 16365}}"
      ]
     },
     "execution_count": 60,
     "metadata": {},
     "output_type": "execute_result"
    }
   ],
   "source": [
    "RecupCovid19Hier()"
   ]
  },
  {
   "cell_type": "code",
   "execution_count": null,
   "metadata": {},
   "outputs": [],
   "source": []
  }
 ],
 "metadata": {
  "kernelspec": {
   "display_name": "Python 3",
   "language": "python",
   "name": "python3"
  },
  "language_info": {
   "codemirror_mode": {
    "name": "ipython",
    "version": 3
   },
   "file_extension": ".py",
   "mimetype": "text/x-python",
   "name": "python",
   "nbconvert_exporter": "python",
   "pygments_lexer": "ipython3",
   "version": "3.7.6"
  }
 },
 "nbformat": 4,
 "nbformat_minor": 4
}
