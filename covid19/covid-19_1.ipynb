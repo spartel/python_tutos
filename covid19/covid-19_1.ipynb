{
 "cells": [
  {
   "cell_type": "code",
   "execution_count": 1,
   "metadata": {},
   "outputs": [],
   "source": [
    "import yaml\n",
    "import requests\n",
    "import time\n",
    "from datetime import datetime, timedelta, date\n",
    "import pandas as pd"
   ]
  },
  {
   "cell_type": "markdown",
   "metadata": {},
   "source": [
    "Les données sont mises à disposition sur https://github.com/opencovid19-fr/data par sante-publique-france"
   ]
  },
  {
   "cell_type": "markdown",
   "metadata": {},
   "source": [
    "## Automatisation de la récupération des données"
   ]
  },
  {
   "cell_type": "code",
   "execution_count": 2,
   "metadata": {},
   "outputs": [
    {
     "data": {
      "text/plain": [
       "200"
      ]
     },
     "execution_count": 2,
     "metadata": {},
     "output_type": "execute_result"
    }
   ],
   "source": [
    "r = requests.get('https://raw.githubusercontent.com/opencovid19-fr/data/master/sante-publique-france/2020-01-24.yaml')\n",
    "r.status_code"
   ]
  },
  {
   "cell_type": "code",
   "execution_count": 54,
   "metadata": {},
   "outputs": [
    {
     "data": {
      "text/plain": [
       "'date: \"2020-01-24\"\\nsource:\\n  nom: Santé publique France\\n  url: https://www.santepubliquefrance.fr/maladies-et-traumatismes/maladies-et-infections-respiratoires/infection-a-coronavirus/articles/cas-de-pneumonies-associees-a-un-nouveau-coronavirus-2019-ncov-a-wuhan-en-chine\\n  archive: https://web.archive.org/web/20200124202351/https://www.santepubliquefrance.fr/maladies-et-traumatismes/maladies-et-infections-respiratoires/infection-a-coronavirus/articles/cas-de-pneumonies-associees-a-un-nouveau-coronavirus-2019-ncov-a-wuhan-en-chine\\ndonneesNationales: # Voir archive 2 en bas de page (après le bulletin du 12/02)\\n  casConfirmes: 3 # cas mise à jour suite à la publication du 27/01 de la SPF qui mentionnent ces 3 cas comme existant depuis le 24/01\\n  hospitalises: 3\\n  deces: 0\\ndonneesRegionales: # Voir archive 2 en bas de page (après le bulletin du 12/02)\\n  - nom: Île-de-France\\n    code: REG-11\\n    casConfirmes: 2\\n    hospitalises: 2\\n  - nom: Nouvelle-Aquitaine\\n    code: REG-75\\n    casConfirmes: 1\\n    hospitalises: 1\\n    donneesRegionales:\\ndonneesDepartementales: # Voir archive 2 en bas de page (après le bulletin du 12/02)\\n  - nom: Gironde\\n    code: DEP-33\\n    casConfirmes: 1\\n    hospitalises: 1\\ndonneesMondiales:\\n  paysTouches: 8 # Chine, Thaïlande, Singapour, Japon, République de Corée, Vietnam, Taïwan et Etats-Unis\\n  casConfirmes: 897\\n  deces: 26\\n\\n# 2e archive: https://web.archive.org/web/20200212192607/https://www.santepubliquefrance.fr/maladies-et-traumatismes/maladies-et-infections-respiratoires/infection-a-coronavirus/articles/epidemie-de-coronavirus-covid-19-au-depart-de-wuhan-chine\\n'"
      ]
     },
     "execution_count": 54,
     "metadata": {},
     "output_type": "execute_result"
    }
   ],
   "source": [
    "r.text"
   ]
  },
  {
   "cell_type": "code",
   "execution_count": 55,
   "metadata": {},
   "outputs": [],
   "source": [
    "y = yaml.load(r.text, Loader=yaml.FullLoader)"
   ]
  },
  {
   "cell_type": "code",
   "execution_count": 56,
   "metadata": {},
   "outputs": [
    {
     "data": {
      "text/plain": [
       "{'date': '2020-01-24',\n",
       " 'source': {'nom': 'Santé publique France',\n",
       "  'url': 'https://www.santepubliquefrance.fr/maladies-et-traumatismes/maladies-et-infections-respiratoires/infection-a-coronavirus/articles/cas-de-pneumonies-associees-a-un-nouveau-coronavirus-2019-ncov-a-wuhan-en-chine',\n",
       "  'archive': 'https://web.archive.org/web/20200124202351/https://www.santepubliquefrance.fr/maladies-et-traumatismes/maladies-et-infections-respiratoires/infection-a-coronavirus/articles/cas-de-pneumonies-associees-a-un-nouveau-coronavirus-2019-ncov-a-wuhan-en-chine'},\n",
       " 'donneesNationales': {'casConfirmes': 3, 'hospitalises': 3, 'deces': 0},\n",
       " 'donneesRegionales': [{'nom': 'Île-de-France',\n",
       "   'code': 'REG-11',\n",
       "   'casConfirmes': 2,\n",
       "   'hospitalises': 2},\n",
       "  {'nom': 'Nouvelle-Aquitaine',\n",
       "   'code': 'REG-75',\n",
       "   'casConfirmes': 1,\n",
       "   'hospitalises': 1,\n",
       "   'donneesRegionales': None}],\n",
       " 'donneesDepartementales': [{'nom': 'Gironde',\n",
       "   'code': 'DEP-33',\n",
       "   'casConfirmes': 1,\n",
       "   'hospitalises': 1}],\n",
       " 'donneesMondiales': {'paysTouches': 8, 'casConfirmes': 897, 'deces': 26}}"
      ]
     },
     "execution_count": 56,
     "metadata": {},
     "output_type": "execute_result"
    }
   ],
   "source": [
    "y"
   ]
  },
  {
   "cell_type": "markdown",
   "metadata": {},
   "source": [
    "### Avec une seule fonction ..."
   ]
  },
  {
   "cell_type": "code",
   "execution_count": 57,
   "metadata": {},
   "outputs": [
    {
     "name": "stdout",
     "output_type": "stream",
     "text": [
      "{'date': datetime.date(2020, 3, 24), 'source': {'nom': 'Santé publique France', 'url': 'https://www.santepubliquefrance.fr/maladies-et-traumatismes/maladies-et-infections-respiratoires/infection-a-coronavirus/articles/infection-au-nouveau-coronavirus-sars-cov-2-covid-19-france-et-monde', 'archive': 'https://web.archive.org/web/20200324193012/https://www.santepubliquefrance.fr/maladies-et-traumatismes/maladies-et-infections-respiratoires/infection-a-coronavirus/articles/infection-au-nouveau-coronavirus-sars-cov-2-covid-19-france-et-monde'}, 'donneesNationales': {'casConfirmes': 22302, 'deces': 1100}, 'donneesRegionales': [{'nom': 'Auvergne-Rhône-Alpes', 'code': 'REG-84', 'casConfirmes': 1857}, {'nom': 'Bourgogne-Franche-Comté', 'code': 'REG-27', 'casConfirmes': 1510}, {'nom': 'Bretagne', 'code': 'REG-53', 'casConfirmes': 526}, {'nom': 'Centre-Val de Loire', 'code': 'REG-24', 'casConfirmes': 450}, {'nom': 'Corse', 'code': 'REG-94', 'casConfirmes': 217}, {'nom': 'Grand Est', 'code': 'REG-44', 'casConfirmes': 4922}, {'nom': 'Hauts-de-France', 'code': 'REG-32', 'casConfirmes': 1532}, {'nom': 'Île-de-France', 'code': 'REG-11', 'casConfirmes': 6798}, {'nom': 'Normandie', 'code': 'REG-28', 'casConfirmes': 586}, {'nom': 'Nouvelle-Aquitaine', 'code': 'REG-75', 'casConfirmes': 789}, {'nom': 'Occitanie', 'code': 'REG-76', 'casConfirmes': 900}, {'nom': 'Pays de la Loire', 'code': 'REG-52', 'casConfirmes': 343}, {'nom': \"Provence-Alpes-Côte d'Azur\", 'code': 'REG-93', 'casConfirmes': 1595}, {'nom': 'Guadeloupe', 'code': 'REG-01', 'casConfirmes': 73}, {'nom': 'Martinique', 'code': 'REG-02', 'casConfirmes': 57}, {'nom': 'Guyane', 'code': 'REG-03', 'casConfirmes': 23}, {'nom': 'La Réunion', 'code': 'REG-04', 'casConfirmes': 83}, {'nom': 'Mayotte', 'code': 'REG-06', 'casConfirmes': 30}, {'nom': 'Saint-Barthélemy', 'code': 'COM-977', 'casConfirmes': 3}, {'nom': 'Saint-Martin', 'code': 'COM-978', 'casConfirmes': 8}], 'donneesMondiales': {'casConfirmes': 378041, 'deces': 16365}}\n"
     ]
    }
   ],
   "source": [
    "r = requests.get('https://raw.githubusercontent.com/opencovid19-fr/data/master/sante-publique-france/2020-03-24.yaml')\n",
    "if (r.status_code==200):\n",
    "    print (yaml.load(r.text, Loader=yaml.FullLoader))"
   ]
  },
  {
   "cell_type": "code",
   "execution_count": 59,
   "metadata": {},
   "outputs": [],
   "source": [
    "hier = date.today() + timedelta(-1)\n",
    "shier = hier.strftime(\"%Y-%m-%d\")\n",
    "fichier = 'https://raw.githubusercontent.com/opencovid19-fr/data/master/sante-publique-france/' + shier + '.yaml'"
   ]
  },
  {
   "cell_type": "markdown",
   "metadata": {},
   "source": [
    "## Création d'une fonction qui récupère les données d'hier sur le Covid19"
   ]
  },
  {
   "cell_type": "code",
   "execution_count": 60,
   "metadata": {},
   "outputs": [],
   "source": [
    "def RecupCovid19Hier():\n",
    "    hier = date.today() + timedelta(-1)\n",
    "    shier = hier.strftime(\"%Y-%m-%d\")\n",
    "    fichier = 'https://raw.githubusercontent.com/opencovid19-fr/data/master/sante-publique-france/' + shier + '.yaml'\n",
    "    out = \"\"\n",
    "    r = requests.get(fichier)\n",
    "    if (r.status_code==200):\n",
    "       out = yaml.load(r.text, Loader=yaml.FullLoader)\n",
    "    return out"
   ]
  },
  {
   "cell_type": "code",
   "execution_count": 61,
   "metadata": {},
   "outputs": [
    {
     "data": {
      "text/plain": [
       "''"
      ]
     },
     "execution_count": 61,
     "metadata": {},
     "output_type": "execute_result"
    }
   ],
   "source": [
    "jsonout = RecupCovid19Hier()\n",
    "jsonout"
   ]
  },
  {
   "cell_type": "code",
   "execution_count": 62,
   "metadata": {},
   "outputs": [
    {
     "ename": "TypeError",
     "evalue": "string indices must be integers",
     "output_type": "error",
     "traceback": [
      "\u001b[0;31m---------------------------------------------------------------------------\u001b[0m",
      "\u001b[0;31mTypeError\u001b[0m                                 Traceback (most recent call last)",
      "\u001b[0;32m<ipython-input-62-2f09dd39db09>\u001b[0m in \u001b[0;36m<module>\u001b[0;34m\u001b[0m\n\u001b[0;32m----> 1\u001b[0;31m \u001b[0mjsonout\u001b[0m\u001b[0;34m[\u001b[0m\u001b[0;34m'date'\u001b[0m\u001b[0;34m]\u001b[0m\u001b[0;34m.\u001b[0m\u001b[0mstrftime\u001b[0m\u001b[0;34m(\u001b[0m\u001b[0;34m\"%Y-%m-%d\"\u001b[0m\u001b[0;34m)\u001b[0m\u001b[0;34m\u001b[0m\u001b[0;34m\u001b[0m\u001b[0m\n\u001b[0m",
      "\u001b[0;31mTypeError\u001b[0m: string indices must be integers"
     ]
    }
   ],
   "source": [
    "jsonout['date'].strftime(\"%Y-%m-%d\")"
   ]
  },
  {
   "cell_type": "code",
   "execution_count": 34,
   "metadata": {},
   "outputs": [
    {
     "data": {
      "text/plain": [
       "22302"
      ]
     },
     "execution_count": 34,
     "metadata": {},
     "output_type": "execute_result"
    }
   ],
   "source": [
    "jsonout['donneesNationales']['casConfirmes']"
   ]
  },
  {
   "cell_type": "markdown",
   "metadata": {},
   "source": [
    "## Sérialisation des données dans un dataframe"
   ]
  },
  {
   "cell_type": "code",
   "execution_count": 61,
   "metadata": {},
   "outputs": [
    {
     "data": {
      "text/html": [
       "<div>\n",
       "<style scoped>\n",
       "    .dataframe tbody tr th:only-of-type {\n",
       "        vertical-align: middle;\n",
       "    }\n",
       "\n",
       "    .dataframe tbody tr th {\n",
       "        vertical-align: top;\n",
       "    }\n",
       "\n",
       "    .dataframe thead th {\n",
       "        text-align: right;\n",
       "    }\n",
       "</style>\n",
       "<table border=\"1\" class=\"dataframe\">\n",
       "  <thead>\n",
       "    <tr style=\"text-align: right;\">\n",
       "      <th></th>\n",
       "      <th>Date</th>\n",
       "      <th>FR Cas Confirmés</th>\n",
       "      <th>FR Décès</th>\n",
       "      <th>WW Cas Confirmés</th>\n",
       "      <th>WW Décès</th>\n",
       "    </tr>\n",
       "  </thead>\n",
       "  <tbody>\n",
       "    <tr>\n",
       "      <th>0</th>\n",
       "      <td>2020-03-24</td>\n",
       "      <td>22302.0</td>\n",
       "      <td>1100.0</td>\n",
       "      <td>378041.0</td>\n",
       "      <td>16365.0</td>\n",
       "    </tr>\n",
       "  </tbody>\n",
       "</table>\n",
       "</div>"
      ],
      "text/plain": [
       "         Date  FR Cas Confirmés  FR Décès  WW Cas Confirmés  WW Décès\n",
       "0  2020-03-24           22302.0    1100.0          378041.0   16365.0"
      ]
     },
     "execution_count": 61,
     "metadata": {},
     "output_type": "execute_result"
    }
   ],
   "source": [
    "A = pd.DataFrame()\n",
    "A = A.append({\n",
    "                'Date' : jsonout['date'].strftime(\"%Y-%m-%d\") , \n",
    "                'FR Cas Confirmés' : jsonout['donneesNationales']['casConfirmes'] , \n",
    "                'FR Décès' : jsonout['donneesNationales']['deces'], \n",
    "                'WW Cas Confirmés' : jsonout['donneesMondiales']['casConfirmes'],\n",
    "                'WW Décès' : jsonout['donneesMondiales']['deces']\n",
    "             } , \n",
    "             ignore_index=True)\n",
    "A"
   ]
  },
  {
   "cell_type": "code",
   "execution_count": 75,
   "metadata": {},
   "outputs": [
    {
     "data": {
      "text/plain": [
       "datetime.datetime(2020, 1, 24, 0, 0)"
      ]
     },
     "execution_count": 75,
     "metadata": {},
     "output_type": "execute_result"
    }
   ],
   "source": [
    "datetime_object = datetime.strptime(StartingDate, '%Y-%m-%d')\n",
    "datetime_object"
   ]
  },
  {
   "cell_type": "code",
   "execution_count": 79,
   "metadata": {},
   "outputs": [
    {
     "name": "stdout",
     "output_type": "stream",
     "text": [
      "2020-01-24\n"
     ]
    }
   ],
   "source": [
    "date_str = \"2020-01-24\"\n",
    "date_object = datetime.strptime(date_str, '%Y-%m-%d').date()\n",
    "print(date_object)"
   ]
  }
 ],
 "metadata": {
  "kernelspec": {
   "display_name": "Python 3",
   "language": "python",
   "name": "python3"
  },
  "language_info": {
   "codemirror_mode": {
    "name": "ipython",
    "version": 3
   },
   "file_extension": ".py",
   "mimetype": "text/x-python",
   "name": "python",
   "nbconvert_exporter": "python",
   "pygments_lexer": "ipython3",
   "version": "3.7.6"
  }
 },
 "nbformat": 4,
 "nbformat_minor": 4
}
