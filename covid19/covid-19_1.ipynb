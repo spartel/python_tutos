{
 "cells": [
  {
   "cell_type": "code",
   "execution_count": 18,
   "metadata": {},
   "outputs": [],
   "source": [
    "import yaml\n",
    "import requests\n",
    "import time\n",
    "from datetime import datetime, timedelta, date\n",
    "import pandas as pd"
   ]
  },
  {
   "cell_type": "markdown",
   "metadata": {},
   "source": [
    "Les données sont mises à disposition sur https://github.com/opencovid19-fr/data par sante-publique-france"
   ]
  },
  {
   "cell_type": "markdown",
   "metadata": {},
   "source": [
    "## Automatisation de la récupération des données"
   ]
  },
  {
   "cell_type": "code",
   "execution_count": 126,
   "metadata": {},
   "outputs": [
    {
     "data": {
      "text/plain": [
       "200"
      ]
     },
     "execution_count": 126,
     "metadata": {},
     "output_type": "execute_result"
    }
   ],
   "source": [
    "r = requests.get('https://raw.githubusercontent.com/opencovid19-fr/data/master/sante-publique-france/2020-01-24.yaml')\n",
    "r.status_code"
   ]
  },
  {
   "cell_type": "code",
   "execution_count": 127,
   "metadata": {},
   "outputs": [
    {
     "data": {
      "text/plain": [
       "'date: \"2020-01-24\"\\nsource:\\n  nom: Santé publique France\\n  url: https://www.santepubliquefrance.fr/maladies-et-traumatismes/maladies-et-infections-respiratoires/infection-a-coronavirus/articles/cas-de-pneumonies-associees-a-un-nouveau-coronavirus-2019-ncov-a-wuhan-en-chine\\n  archive: https://web.archive.org/web/20200124202351/https://www.santepubliquefrance.fr/maladies-et-traumatismes/maladies-et-infections-respiratoires/infection-a-coronavirus/articles/cas-de-pneumonies-associees-a-un-nouveau-coronavirus-2019-ncov-a-wuhan-en-chine\\ndonneesNationales: # Voir archive 2 en bas de page (après le bulletin du 12/02)\\n  casConfirmes: 3 # cas mise à jour suite à la publication du 27/01 de la SPF qui mentionnent ces 3 cas comme existant depuis le 24/01\\n  hospitalises: 3\\n  deces: 0\\ndonneesRegionales: # Voir archive 2 en bas de page (après le bulletin du 12/02)\\n  - nom: Ile-de-France\\n    code: REG-11\\n    casConfirmes: 2\\n    hospitalises: 2\\n  - nom: Nouvelle-Aquitaine\\n    code: REG-75\\n    casConfirmes: 1\\n    hospitalises: 1\\n    donneesRegionales:\\ndonneesDepartementales: # Voir archive 2 en bas de page (après le bulletin du 12/02)\\n  - nom: Gironde\\n    code: DEP-33\\n    casConfirmes: 1\\n    hospitalises: 1\\ndonneesMondiales:\\n  paysTouches: 8 # Chine, Thaïlande, Singapour, Japon, République de Corée, Vietnam, Taïwan et Etats-Unis\\n  casConfirmes: 897\\n  deces: 26\\n\\n# 2e archive: https://web.archive.org/web/20200212192607/https://www.santepubliquefrance.fr/maladies-et-traumatismes/maladies-et-infections-respiratoires/infection-a-coronavirus/articles/epidemie-de-coronavirus-covid-19-au-depart-de-wuhan-chine\\n'"
      ]
     },
     "execution_count": 127,
     "metadata": {},
     "output_type": "execute_result"
    }
   ],
   "source": [
    "r.text"
   ]
  },
  {
   "cell_type": "code",
   "execution_count": 128,
   "metadata": {},
   "outputs": [],
   "source": [
    "y = yaml.load(r.text, Loader=yaml.FullLoader)"
   ]
  },
  {
   "cell_type": "code",
   "execution_count": 129,
   "metadata": {},
   "outputs": [
    {
     "data": {
      "text/plain": [
       "{'date': '2020-01-24',\n",
       " 'source': {'nom': 'Santé publique France',\n",
       "  'url': 'https://www.santepubliquefrance.fr/maladies-et-traumatismes/maladies-et-infections-respiratoires/infection-a-coronavirus/articles/cas-de-pneumonies-associees-a-un-nouveau-coronavirus-2019-ncov-a-wuhan-en-chine',\n",
       "  'archive': 'https://web.archive.org/web/20200124202351/https://www.santepubliquefrance.fr/maladies-et-traumatismes/maladies-et-infections-respiratoires/infection-a-coronavirus/articles/cas-de-pneumonies-associees-a-un-nouveau-coronavirus-2019-ncov-a-wuhan-en-chine'},\n",
       " 'donneesNationales': {'casConfirmes': 3, 'hospitalises': 3, 'deces': 0},\n",
       " 'donneesRegionales': [{'nom': 'Ile-de-France',\n",
       "   'code': 'REG-11',\n",
       "   'casConfirmes': 2,\n",
       "   'hospitalises': 2},\n",
       "  {'nom': 'Nouvelle-Aquitaine',\n",
       "   'code': 'REG-75',\n",
       "   'casConfirmes': 1,\n",
       "   'hospitalises': 1,\n",
       "   'donneesRegionales': None}],\n",
       " 'donneesDepartementales': [{'nom': 'Gironde',\n",
       "   'code': 'DEP-33',\n",
       "   'casConfirmes': 1,\n",
       "   'hospitalises': 1}],\n",
       " 'donneesMondiales': {'paysTouches': 8, 'casConfirmes': 897, 'deces': 26}}"
      ]
     },
     "execution_count": 129,
     "metadata": {},
     "output_type": "execute_result"
    }
   ],
   "source": [
    "y"
   ]
  },
  {
   "cell_type": "markdown",
   "metadata": {},
   "source": [
    "Avec une seule fonction ..."
   ]
  },
  {
   "cell_type": "code",
   "execution_count": 6,
   "metadata": {},
   "outputs": [
    {
     "name": "stdout",
     "output_type": "stream",
     "text": [
      "{'date': datetime.date(2020, 3, 24), 'source': {'nom': 'Santé publique France', 'url': 'https://www.santepubliquefrance.fr/maladies-et-traumatismes/maladies-et-infections-respiratoires/infection-a-coronavirus/articles/infection-au-nouveau-coronavirus-sars-cov-2-covid-19-france-et-monde', 'archive': 'https://web.archive.org/web/20200324193012/https://www.santepubliquefrance.fr/maladies-et-traumatismes/maladies-et-infections-respiratoires/infection-a-coronavirus/articles/infection-au-nouveau-coronavirus-sars-cov-2-covid-19-france-et-monde'}, 'donneesNationales': {'casConfirmes': 22302, 'deces': 1100}, 'donneesRegionales': [{'nom': 'Auvergne-Rhône-Alpes', 'code': 'REG-84', 'casConfirmes': 1857}, {'nom': 'Bourgogne-Franche-Comté', 'code': 'REG-27', 'casConfirmes': 1510}, {'nom': 'Bretagne', 'code': 'REG-53', 'casConfirmes': 526}, {'nom': 'Centre-Val de Loire', 'code': 'REG-24', 'casConfirmes': 450}, {'nom': 'Corse', 'code': 'REG-94', 'casConfirmes': 217}, {'nom': 'Grand-Est', 'code': 'REG-44', 'casConfirmes': 4922}, {'nom': 'Hauts-de-France', 'code': 'REG-32', 'casConfirmes': 1532}, {'nom': 'Ile-de-France', 'code': 'REG-11', 'casConfirmes': 6798}, {'nom': 'Normandie', 'code': 'REG-28', 'casConfirmes': 586}, {'nom': 'Nouvelle-Aquitaine', 'code': 'REG-75', 'casConfirmes': 789}, {'nom': 'Occitanie', 'code': 'REG-76', 'casConfirmes': 900}, {'nom': 'Pays de la Loire', 'code': 'REG-52', 'casConfirmes': 343}, {'nom': 'Provence-Alpes-Côte d’Azur', 'code': 'REG-93', 'casConfirmes': 1595}, {'nom': 'Guadeloupe', 'code': 'REG-01', 'casConfirmes': 73}, {'nom': 'Martinique', 'code': 'REG-02', 'casConfirmes': 57}, {'nom': 'Guyane', 'code': 'REG-03', 'casConfirmes': 23}, {'nom': 'La Réunion', 'code': 'REG-04', 'casConfirmes': 83}, {'nom': 'Mayotte', 'code': 'REG-06', 'casConfirmes': 30}, {'nom': 'Saint-Barthélemy', 'code': 'COM-977', 'casConfirmes': 3}, {'nom': 'Saint-Martin', 'code': 'COM-978', 'casConfirmes': 8}], 'donneesMondiales': {'casConfirmes': 378041, 'deces': 16365}}\n"
     ]
    }
   ],
   "source": [
    "r = requests.get('https://raw.githubusercontent.com/opencovid19-fr/data/master/sante-publique-france/2020-03-24.yaml')\n",
    "if (r.status_code==200):\n",
    "    print (yaml.load(r.text, Loader=yaml.FullLoader))"
   ]
  },
  {
   "cell_type": "code",
   "execution_count": 7,
   "metadata": {},
   "outputs": [],
   "source": [
    "hier = datetime.date.today() + datetime.timedelta(-1)\n",
    "shier = hier.strftime(\"%Y-%m-%d\")"
   ]
  },
  {
   "cell_type": "code",
   "execution_count": 8,
   "metadata": {},
   "outputs": [
    {
     "data": {
      "text/plain": [
       "'2020-03-24'"
      ]
     },
     "execution_count": 8,
     "metadata": {},
     "output_type": "execute_result"
    }
   ],
   "source": [
    "shier"
   ]
  },
  {
   "cell_type": "code",
   "execution_count": 9,
   "metadata": {},
   "outputs": [
    {
     "data": {
      "text/plain": [
       "'https://raw.githubusercontent.com/opencovid19-fr/data/master/sante-publique-france/2020-03-24.yaml'"
      ]
     },
     "execution_count": 9,
     "metadata": {},
     "output_type": "execute_result"
    }
   ],
   "source": [
    "fichier = 'https://raw.githubusercontent.com/opencovid19-fr/data/master/sante-publique-france/' + shier + '.yaml'\n",
    "fichier"
   ]
  },
  {
   "cell_type": "markdown",
   "metadata": {},
   "source": [
    "## Création d'une fonction qui récupère les données d'hier sur le Covid19"
   ]
  },
  {
   "cell_type": "code",
   "execution_count": 26,
   "metadata": {},
   "outputs": [],
   "source": [
    "def RecupCovid19Hier():\n",
    "    hier = date.today() + timedelta(-1)\n",
    "    shier = hier.strftime(\"%Y-%m-%d\")\n",
    "    fichier = 'https://raw.githubusercontent.com/opencovid19-fr/data/master/sante-publique-france/' + shier + '.yaml'\n",
    "    out = \"\"\n",
    "    r = requests.get(fichier)\n",
    "    if (r.status_code==200):\n",
    "       out = yaml.load(r.text, Loader=yaml.FullLoader)\n",
    "    return out"
   ]
  },
  {
   "cell_type": "code",
   "execution_count": 27,
   "metadata": {},
   "outputs": [
    {
     "data": {
      "text/plain": [
       "{'date': datetime.date(2020, 3, 24),\n",
       " 'source': {'nom': 'Santé publique France',\n",
       "  'url': 'https://www.santepubliquefrance.fr/maladies-et-traumatismes/maladies-et-infections-respiratoires/infection-a-coronavirus/articles/infection-au-nouveau-coronavirus-sars-cov-2-covid-19-france-et-monde',\n",
       "  'archive': 'https://web.archive.org/web/20200324193012/https://www.santepubliquefrance.fr/maladies-et-traumatismes/maladies-et-infections-respiratoires/infection-a-coronavirus/articles/infection-au-nouveau-coronavirus-sars-cov-2-covid-19-france-et-monde'},\n",
       " 'donneesNationales': {'casConfirmes': 22302, 'deces': 1100},\n",
       " 'donneesRegionales': [{'nom': 'Auvergne-Rhône-Alpes',\n",
       "   'code': 'REG-84',\n",
       "   'casConfirmes': 1857},\n",
       "  {'nom': 'Bourgogne-Franche-Comté', 'code': 'REG-27', 'casConfirmes': 1510},\n",
       "  {'nom': 'Bretagne', 'code': 'REG-53', 'casConfirmes': 526},\n",
       "  {'nom': 'Centre-Val de Loire', 'code': 'REG-24', 'casConfirmes': 450},\n",
       "  {'nom': 'Corse', 'code': 'REG-94', 'casConfirmes': 217},\n",
       "  {'nom': 'Grand Est', 'code': 'REG-44', 'casConfirmes': 4922},\n",
       "  {'nom': 'Hauts-de-France', 'code': 'REG-32', 'casConfirmes': 1532},\n",
       "  {'nom': 'Île-de-France', 'code': 'REG-11', 'casConfirmes': 6798},\n",
       "  {'nom': 'Normandie', 'code': 'REG-28', 'casConfirmes': 586},\n",
       "  {'nom': 'Nouvelle-Aquitaine', 'code': 'REG-75', 'casConfirmes': 789},\n",
       "  {'nom': 'Occitanie', 'code': 'REG-76', 'casConfirmes': 900},\n",
       "  {'nom': 'Pays de la Loire', 'code': 'REG-52', 'casConfirmes': 343},\n",
       "  {'nom': \"Provence-Alpes-Côte d'Azur\",\n",
       "   'code': 'REG-93',\n",
       "   'casConfirmes': 1595},\n",
       "  {'nom': 'Guadeloupe', 'code': 'REG-01', 'casConfirmes': 73},\n",
       "  {'nom': 'Martinique', 'code': 'REG-02', 'casConfirmes': 57},\n",
       "  {'nom': 'Guyane', 'code': 'REG-03', 'casConfirmes': 23},\n",
       "  {'nom': 'La Réunion', 'code': 'REG-04', 'casConfirmes': 83},\n",
       "  {'nom': 'Mayotte', 'code': 'REG-06', 'casConfirmes': 30},\n",
       "  {'nom': 'Saint-Barthélemy', 'code': 'COM-977', 'casConfirmes': 3},\n",
       "  {'nom': 'Saint-Martin', 'code': 'COM-978', 'casConfirmes': 8}],\n",
       " 'donneesMondiales': {'casConfirmes': 378041, 'deces': 16365}}"
      ]
     },
     "execution_count": 27,
     "metadata": {},
     "output_type": "execute_result"
    }
   ],
   "source": [
    "jsonout = RecupCovid19Hier()\n",
    "jsonout"
   ]
  },
  {
   "cell_type": "code",
   "execution_count": 14,
   "metadata": {},
   "outputs": [
    {
     "data": {
      "text/plain": [
       "'2020-03-24'"
      ]
     },
     "execution_count": 14,
     "metadata": {},
     "output_type": "execute_result"
    }
   ],
   "source": [
    "jsonout['date'].strftime(\"%Y-%m-%d\")"
   ]
  },
  {
   "cell_type": "code",
   "execution_count": 34,
   "metadata": {},
   "outputs": [
    {
     "data": {
      "text/plain": [
       "22302"
      ]
     },
     "execution_count": 34,
     "metadata": {},
     "output_type": "execute_result"
    }
   ],
   "source": [
    "jsonout['donneesNationales']['casConfirmes']"
   ]
  },
  {
   "cell_type": "markdown",
   "metadata": {},
   "source": [
    "## Sérialisation des données dans un dataframe"
   ]
  },
  {
   "cell_type": "code",
   "execution_count": 61,
   "metadata": {},
   "outputs": [
    {
     "data": {
      "text/html": [
       "<div>\n",
       "<style scoped>\n",
       "    .dataframe tbody tr th:only-of-type {\n",
       "        vertical-align: middle;\n",
       "    }\n",
       "\n",
       "    .dataframe tbody tr th {\n",
       "        vertical-align: top;\n",
       "    }\n",
       "\n",
       "    .dataframe thead th {\n",
       "        text-align: right;\n",
       "    }\n",
       "</style>\n",
       "<table border=\"1\" class=\"dataframe\">\n",
       "  <thead>\n",
       "    <tr style=\"text-align: right;\">\n",
       "      <th></th>\n",
       "      <th>Date</th>\n",
       "      <th>FR Cas Confirmés</th>\n",
       "      <th>FR Décès</th>\n",
       "      <th>WW Cas Confirmés</th>\n",
       "      <th>WW Décès</th>\n",
       "    </tr>\n",
       "  </thead>\n",
       "  <tbody>\n",
       "    <tr>\n",
       "      <th>0</th>\n",
       "      <td>2020-03-24</td>\n",
       "      <td>22302.0</td>\n",
       "      <td>1100.0</td>\n",
       "      <td>378041.0</td>\n",
       "      <td>16365.0</td>\n",
       "    </tr>\n",
       "  </tbody>\n",
       "</table>\n",
       "</div>"
      ],
      "text/plain": [
       "         Date  FR Cas Confirmés  FR Décès  WW Cas Confirmés  WW Décès\n",
       "0  2020-03-24           22302.0    1100.0          378041.0   16365.0"
      ]
     },
     "execution_count": 61,
     "metadata": {},
     "output_type": "execute_result"
    }
   ],
   "source": [
    "A = pd.DataFrame()\n",
    "A = A.append({\n",
    "                'Date' : jsonout['date'].strftime(\"%Y-%m-%d\") , \n",
    "                'FR Cas Confirmés' : jsonout['donneesNationales']['casConfirmes'] , \n",
    "                'FR Décès' : jsonout['donneesNationales']['deces'], \n",
    "                'WW Cas Confirmés' : jsonout['donneesMondiales']['casConfirmes'],\n",
    "                'WW Décès' : jsonout['donneesMondiales']['deces']\n",
    "             } , \n",
    "             ignore_index=True)\n",
    "A"
   ]
  },
  {
   "cell_type": "code",
   "execution_count": 75,
   "metadata": {},
   "outputs": [
    {
     "data": {
      "text/plain": [
       "datetime.datetime(2020, 1, 24, 0, 0)"
      ]
     },
     "execution_count": 75,
     "metadata": {},
     "output_type": "execute_result"
    }
   ],
   "source": [
    "datetime_object = datetime.strptime(StartingDate, '%Y-%m-%d')\n",
    "datetime_object"
   ]
  },
  {
   "cell_type": "code",
   "execution_count": 79,
   "metadata": {},
   "outputs": [
    {
     "name": "stdout",
     "output_type": "stream",
     "text": [
      "2020-01-24\n"
     ]
    }
   ],
   "source": [
    "date_str = \"2020-01-24\"\n",
    "date_object = datetime.strptime(date_str, '%Y-%m-%d').date()\n",
    "print(date_object)"
   ]
  },
  {
   "cell_type": "markdown",
   "metadata": {},
   "source": [
    "## Fonction globale"
   ]
  },
  {
   "cell_type": "code",
   "execution_count": 21,
   "metadata": {},
   "outputs": [
    {
     "name": "stdout",
     "output_type": "stream",
     "text": [
      "Récupère le fichier https://raw.githubusercontent.com/opencovid19-fr/data/master/sante-publique-france/2020-01-25.yaml\n",
      "Récupère le fichier https://raw.githubusercontent.com/opencovid19-fr/data/master/sante-publique-france/2020-01-26.yaml\n",
      "Récupère le fichier https://raw.githubusercontent.com/opencovid19-fr/data/master/sante-publique-france/2020-01-27.yaml\n",
      "Récupère le fichier https://raw.githubusercontent.com/opencovid19-fr/data/master/sante-publique-france/2020-01-28.yaml\n",
      "Récupère le fichier https://raw.githubusercontent.com/opencovid19-fr/data/master/sante-publique-france/2020-01-29.yaml\n",
      "Récupère le fichier https://raw.githubusercontent.com/opencovid19-fr/data/master/sante-publique-france/2020-01-30.yaml\n",
      "Récupère le fichier https://raw.githubusercontent.com/opencovid19-fr/data/master/sante-publique-france/2020-01-31.yaml\n",
      "Récupère le fichier https://raw.githubusercontent.com/opencovid19-fr/data/master/sante-publique-france/2020-02-01.yaml\n",
      "Erreur de récupération du fichier pour la date du  2020-02-01\n",
      "Récupère le fichier https://raw.githubusercontent.com/opencovid19-fr/data/master/sante-publique-france/2020-02-02.yaml\n",
      "Erreur de récupération du fichier pour la date du  2020-02-02\n",
      "Récupère le fichier https://raw.githubusercontent.com/opencovid19-fr/data/master/sante-publique-france/2020-02-03.yaml\n",
      "Récupère le fichier https://raw.githubusercontent.com/opencovid19-fr/data/master/sante-publique-france/2020-02-04.yaml\n",
      "Erreur de récupération du fichier pour la date du  2020-02-04\n",
      "Récupère le fichier https://raw.githubusercontent.com/opencovid19-fr/data/master/sante-publique-france/2020-02-05.yaml\n",
      "Récupère le fichier https://raw.githubusercontent.com/opencovid19-fr/data/master/sante-publique-france/2020-02-06.yaml\n",
      "Récupère le fichier https://raw.githubusercontent.com/opencovid19-fr/data/master/sante-publique-france/2020-02-07.yaml\n",
      "Récupère le fichier https://raw.githubusercontent.com/opencovid19-fr/data/master/sante-publique-france/2020-02-08.yaml\n",
      "Récupère le fichier https://raw.githubusercontent.com/opencovid19-fr/data/master/sante-publique-france/2020-02-09.yaml\n",
      "Erreur de récupération du fichier pour la date du  2020-02-09\n",
      "Récupère le fichier https://raw.githubusercontent.com/opencovid19-fr/data/master/sante-publique-france/2020-02-10.yaml\n",
      "Récupère le fichier https://raw.githubusercontent.com/opencovid19-fr/data/master/sante-publique-france/2020-02-11.yaml\n",
      "Récupère le fichier https://raw.githubusercontent.com/opencovid19-fr/data/master/sante-publique-france/2020-02-12.yaml\n",
      "Récupère le fichier https://raw.githubusercontent.com/opencovid19-fr/data/master/sante-publique-france/2020-02-13.yaml\n",
      "Erreur de récupération du fichier pour la date du  2020-02-13\n",
      "Récupère le fichier https://raw.githubusercontent.com/opencovid19-fr/data/master/sante-publique-france/2020-02-14.yaml\n",
      "Erreur de récupération du fichier pour la date du  2020-02-14\n",
      "Récupère le fichier https://raw.githubusercontent.com/opencovid19-fr/data/master/sante-publique-france/2020-02-15.yaml\n",
      "Erreur de récupération du fichier pour la date du  2020-02-15\n",
      "Récupère le fichier https://raw.githubusercontent.com/opencovid19-fr/data/master/sante-publique-france/2020-02-16.yaml\n",
      "Erreur de récupération du fichier pour la date du  2020-02-16\n",
      "Récupère le fichier https://raw.githubusercontent.com/opencovid19-fr/data/master/sante-publique-france/2020-02-17.yaml\n",
      "Erreur de récupération du fichier pour la date du  2020-02-17\n",
      "Récupère le fichier https://raw.githubusercontent.com/opencovid19-fr/data/master/sante-publique-france/2020-02-18.yaml\n",
      "Erreur de récupération du fichier pour la date du  2020-02-18\n",
      "Récupère le fichier https://raw.githubusercontent.com/opencovid19-fr/data/master/sante-publique-france/2020-02-19.yaml\n",
      "Erreur de récupération du fichier pour la date du  2020-02-19\n",
      "Récupère le fichier https://raw.githubusercontent.com/opencovid19-fr/data/master/sante-publique-france/2020-02-20.yaml\n",
      "Récupère le fichier https://raw.githubusercontent.com/opencovid19-fr/data/master/sante-publique-france/2020-02-21.yaml\n",
      "Erreur de récupération du fichier pour la date du  2020-02-21\n",
      "Récupère le fichier https://raw.githubusercontent.com/opencovid19-fr/data/master/sante-publique-france/2020-02-22.yaml\n",
      "Erreur de récupération du fichier pour la date du  2020-02-22\n",
      "Récupère le fichier https://raw.githubusercontent.com/opencovid19-fr/data/master/sante-publique-france/2020-02-23.yaml\n",
      "Erreur de récupération du fichier pour la date du  2020-02-23\n",
      "Récupère le fichier https://raw.githubusercontent.com/opencovid19-fr/data/master/sante-publique-france/2020-02-24.yaml\n",
      "Erreur de récupération du fichier pour la date du  2020-02-24\n",
      "Récupère le fichier https://raw.githubusercontent.com/opencovid19-fr/data/master/sante-publique-france/2020-02-25.yaml\n",
      "Erreur de récupération du fichier pour la date du  2020-02-25\n",
      "Récupère le fichier https://raw.githubusercontent.com/opencovid19-fr/data/master/sante-publique-france/2020-02-26.yaml\n",
      "Récupère le fichier https://raw.githubusercontent.com/opencovid19-fr/data/master/sante-publique-france/2020-02-27.yaml\n",
      "Erreur de récupération du fichier pour la date du  2020-02-27\n",
      "Récupère le fichier https://raw.githubusercontent.com/opencovid19-fr/data/master/sante-publique-france/2020-02-28.yaml\n",
      "Récupère le fichier https://raw.githubusercontent.com/opencovid19-fr/data/master/sante-publique-france/2020-02-29.yaml\n",
      "Récupère le fichier https://raw.githubusercontent.com/opencovid19-fr/data/master/sante-publique-france/2020-03-01.yaml\n",
      "Erreur de récupération du fichier pour la date du  2020-03-01\n",
      "Récupère le fichier https://raw.githubusercontent.com/opencovid19-fr/data/master/sante-publique-france/2020-03-02.yaml\n",
      "Récupère le fichier https://raw.githubusercontent.com/opencovid19-fr/data/master/sante-publique-france/2020-03-03.yaml\n",
      "Récupère le fichier https://raw.githubusercontent.com/opencovid19-fr/data/master/sante-publique-france/2020-03-04.yaml\n",
      "Récupère le fichier https://raw.githubusercontent.com/opencovid19-fr/data/master/sante-publique-france/2020-03-05.yaml\n",
      "Récupère le fichier https://raw.githubusercontent.com/opencovid19-fr/data/master/sante-publique-france/2020-03-06.yaml\n",
      "Récupère le fichier https://raw.githubusercontent.com/opencovid19-fr/data/master/sante-publique-france/2020-03-07.yaml\n",
      "Récupère le fichier https://raw.githubusercontent.com/opencovid19-fr/data/master/sante-publique-france/2020-03-08.yaml\n",
      "Récupère le fichier https://raw.githubusercontent.com/opencovid19-fr/data/master/sante-publique-france/2020-03-09.yaml\n",
      "Récupère le fichier https://raw.githubusercontent.com/opencovid19-fr/data/master/sante-publique-france/2020-03-10.yaml\n",
      "Récupère le fichier https://raw.githubusercontent.com/opencovid19-fr/data/master/sante-publique-france/2020-03-11.yaml\n",
      "Récupère le fichier https://raw.githubusercontent.com/opencovid19-fr/data/master/sante-publique-france/2020-03-12.yaml\n",
      "Récupère le fichier https://raw.githubusercontent.com/opencovid19-fr/data/master/sante-publique-france/2020-03-13.yaml\n",
      "Récupère le fichier https://raw.githubusercontent.com/opencovid19-fr/data/master/sante-publique-france/2020-03-14.yaml\n",
      "Récupère le fichier https://raw.githubusercontent.com/opencovid19-fr/data/master/sante-publique-france/2020-03-15.yaml\n",
      "Récupère le fichier https://raw.githubusercontent.com/opencovid19-fr/data/master/sante-publique-france/2020-03-16.yaml\n",
      "Récupère le fichier https://raw.githubusercontent.com/opencovid19-fr/data/master/sante-publique-france/2020-03-17.yaml\n",
      "Récupère le fichier https://raw.githubusercontent.com/opencovid19-fr/data/master/sante-publique-france/2020-03-18.yaml\n",
      "Récupère le fichier https://raw.githubusercontent.com/opencovid19-fr/data/master/sante-publique-france/2020-03-19.yaml\n",
      "Récupère le fichier https://raw.githubusercontent.com/opencovid19-fr/data/master/sante-publique-france/2020-03-20.yaml\n",
      "Récupère le fichier https://raw.githubusercontent.com/opencovid19-fr/data/master/sante-publique-france/2020-03-21.yaml\n",
      "Récupère le fichier https://raw.githubusercontent.com/opencovid19-fr/data/master/sante-publique-france/2020-03-22.yaml\n",
      "Récupère le fichier https://raw.githubusercontent.com/opencovid19-fr/data/master/sante-publique-france/2020-03-23.yaml\n",
      "Récupère le fichier https://raw.githubusercontent.com/opencovid19-fr/data/master/sante-publique-france/2020-03-24.yaml\n",
      "Récupère le fichier https://raw.githubusercontent.com/opencovid19-fr/data/master/sante-publique-france/2020-03-25.yaml\n",
      "Erreur de récupération du fichier pour la date du  2020-03-25\n"
     ]
    },
    {
     "data": {
      "text/html": [
       "<div>\n",
       "<style scoped>\n",
       "    .dataframe tbody tr th:only-of-type {\n",
       "        vertical-align: middle;\n",
       "    }\n",
       "\n",
       "    .dataframe tbody tr th {\n",
       "        vertical-align: top;\n",
       "    }\n",
       "\n",
       "    .dataframe thead th {\n",
       "        text-align: right;\n",
       "    }\n",
       "</style>\n",
       "<table border=\"1\" class=\"dataframe\">\n",
       "  <thead>\n",
       "    <tr style=\"text-align: right;\">\n",
       "      <th></th>\n",
       "      <th>Date</th>\n",
       "      <th>FR Cas Confirmés</th>\n",
       "      <th>FR Décès</th>\n",
       "      <th>WW Cas Confirmés</th>\n",
       "      <th>WW Décès</th>\n",
       "    </tr>\n",
       "  </thead>\n",
       "  <tbody>\n",
       "    <tr>\n",
       "      <th>0</th>\n",
       "      <td>2020-01-25</td>\n",
       "      <td>3.0</td>\n",
       "      <td>0.0</td>\n",
       "      <td>1329.0</td>\n",
       "      <td>41.0</td>\n",
       "    </tr>\n",
       "    <tr>\n",
       "      <th>1</th>\n",
       "      <td>2020-01-26</td>\n",
       "      <td>3.0</td>\n",
       "      <td>0.0</td>\n",
       "      <td>2026.0</td>\n",
       "      <td>56.0</td>\n",
       "    </tr>\n",
       "    <tr>\n",
       "      <th>2</th>\n",
       "      <td>2020-01-27</td>\n",
       "      <td>3.0</td>\n",
       "      <td>0.0</td>\n",
       "      <td>2820.0</td>\n",
       "      <td>81.0</td>\n",
       "    </tr>\n",
       "    <tr>\n",
       "      <th>3</th>\n",
       "      <td>2020-01-28</td>\n",
       "      <td>4.0</td>\n",
       "      <td>0.0</td>\n",
       "      <td>0.0</td>\n",
       "      <td>0.0</td>\n",
       "    </tr>\n",
       "    <tr>\n",
       "      <th>4</th>\n",
       "      <td>2020-01-29</td>\n",
       "      <td>5.0</td>\n",
       "      <td>0.0</td>\n",
       "      <td>6072.0</td>\n",
       "      <td>132.0</td>\n",
       "    </tr>\n",
       "    <tr>\n",
       "      <th>5</th>\n",
       "      <td>2020-01-30</td>\n",
       "      <td>6.0</td>\n",
       "      <td>0.0</td>\n",
       "      <td>7790.0</td>\n",
       "      <td>170.0</td>\n",
       "    </tr>\n",
       "    <tr>\n",
       "      <th>6</th>\n",
       "      <td>2020-01-31</td>\n",
       "      <td>6.0</td>\n",
       "      <td>0.0</td>\n",
       "      <td>9831.0</td>\n",
       "      <td>213.0</td>\n",
       "    </tr>\n",
       "    <tr>\n",
       "      <th>7</th>\n",
       "      <td>2020-02-03</td>\n",
       "      <td>6.0</td>\n",
       "      <td>0.0</td>\n",
       "      <td>17383.0</td>\n",
       "      <td>362.0</td>\n",
       "    </tr>\n",
       "    <tr>\n",
       "      <th>8</th>\n",
       "      <td>2020-02-05</td>\n",
       "      <td>6.0</td>\n",
       "      <td>0.0</td>\n",
       "      <td>24530.0</td>\n",
       "      <td>493.0</td>\n",
       "    </tr>\n",
       "    <tr>\n",
       "      <th>9</th>\n",
       "      <td>2020-02-06</td>\n",
       "      <td>6.0</td>\n",
       "      <td>0.0</td>\n",
       "      <td>28284.0</td>\n",
       "      <td>565.0</td>\n",
       "    </tr>\n",
       "    <tr>\n",
       "      <th>10</th>\n",
       "      <td>2020-02-07</td>\n",
       "      <td>11.0</td>\n",
       "      <td>0.0</td>\n",
       "      <td>31503.0</td>\n",
       "      <td>638.0</td>\n",
       "    </tr>\n",
       "    <tr>\n",
       "      <th>11</th>\n",
       "      <td>2020-02-08</td>\n",
       "      <td>11.0</td>\n",
       "      <td>0.0</td>\n",
       "      <td>34945.0</td>\n",
       "      <td>724.0</td>\n",
       "    </tr>\n",
       "    <tr>\n",
       "      <th>12</th>\n",
       "      <td>2020-02-10</td>\n",
       "      <td>11.0</td>\n",
       "      <td>0.0</td>\n",
       "      <td>40553.0</td>\n",
       "      <td>910.0</td>\n",
       "    </tr>\n",
       "    <tr>\n",
       "      <th>13</th>\n",
       "      <td>2020-02-11</td>\n",
       "      <td>11.0</td>\n",
       "      <td>0.0</td>\n",
       "      <td>43118.0</td>\n",
       "      <td>1018.0</td>\n",
       "    </tr>\n",
       "    <tr>\n",
       "      <th>14</th>\n",
       "      <td>2020-02-12</td>\n",
       "      <td>11.0</td>\n",
       "      <td>0.0</td>\n",
       "      <td>45179.0</td>\n",
       "      <td>1116.0</td>\n",
       "    </tr>\n",
       "    <tr>\n",
       "      <th>15</th>\n",
       "      <td>2020-02-20</td>\n",
       "      <td>12.0</td>\n",
       "      <td>1.0</td>\n",
       "      <td>75744.0</td>\n",
       "      <td>2128.0</td>\n",
       "    </tr>\n",
       "    <tr>\n",
       "      <th>16</th>\n",
       "      <td>2020-02-26</td>\n",
       "      <td>17.0</td>\n",
       "      <td>2.0</td>\n",
       "      <td>81027.0</td>\n",
       "      <td>2764.0</td>\n",
       "    </tr>\n",
       "    <tr>\n",
       "      <th>17</th>\n",
       "      <td>2020-02-28</td>\n",
       "      <td>38.0</td>\n",
       "      <td>2.0</td>\n",
       "      <td>0.0</td>\n",
       "      <td>0.0</td>\n",
       "    </tr>\n",
       "    <tr>\n",
       "      <th>18</th>\n",
       "      <td>2020-02-29</td>\n",
       "      <td>73.0</td>\n",
       "      <td>2.0</td>\n",
       "      <td>0.0</td>\n",
       "      <td>0.0</td>\n",
       "    </tr>\n",
       "    <tr>\n",
       "      <th>19</th>\n",
       "      <td>2020-03-02</td>\n",
       "      <td>178.0</td>\n",
       "      <td>3.0</td>\n",
       "      <td>0.0</td>\n",
       "      <td>0.0</td>\n",
       "    </tr>\n",
       "    <tr>\n",
       "      <th>20</th>\n",
       "      <td>2020-03-03</td>\n",
       "      <td>212.0</td>\n",
       "      <td>4.0</td>\n",
       "      <td>90663.0</td>\n",
       "      <td>3125.0</td>\n",
       "    </tr>\n",
       "    <tr>\n",
       "      <th>21</th>\n",
       "      <td>2020-03-04</td>\n",
       "      <td>285.0</td>\n",
       "      <td>4.0</td>\n",
       "      <td>93076.0</td>\n",
       "      <td>3202.0</td>\n",
       "    </tr>\n",
       "    <tr>\n",
       "      <th>22</th>\n",
       "      <td>2020-03-05</td>\n",
       "      <td>423.0</td>\n",
       "      <td>5.0</td>\n",
       "      <td>95315.0</td>\n",
       "      <td>3282.0</td>\n",
       "    </tr>\n",
       "    <tr>\n",
       "      <th>23</th>\n",
       "      <td>2020-03-06</td>\n",
       "      <td>613.0</td>\n",
       "      <td>9.0</td>\n",
       "      <td>98171.0</td>\n",
       "      <td>3385.0</td>\n",
       "    </tr>\n",
       "    <tr>\n",
       "      <th>24</th>\n",
       "      <td>2020-03-07</td>\n",
       "      <td>949.0</td>\n",
       "      <td>11.0</td>\n",
       "      <td>101855.0</td>\n",
       "      <td>3488.0</td>\n",
       "    </tr>\n",
       "    <tr>\n",
       "      <th>25</th>\n",
       "      <td>2020-03-08</td>\n",
       "      <td>1126.0</td>\n",
       "      <td>19.0</td>\n",
       "      <td>105828.0</td>\n",
       "      <td>3584.0</td>\n",
       "    </tr>\n",
       "    <tr>\n",
       "      <th>26</th>\n",
       "      <td>2020-03-09</td>\n",
       "      <td>1412.0</td>\n",
       "      <td>30.0</td>\n",
       "      <td>109695.0</td>\n",
       "      <td>3811.0</td>\n",
       "    </tr>\n",
       "    <tr>\n",
       "      <th>27</th>\n",
       "      <td>2020-03-10</td>\n",
       "      <td>1784.0</td>\n",
       "      <td>33.0</td>\n",
       "      <td>0.0</td>\n",
       "      <td>0.0</td>\n",
       "    </tr>\n",
       "    <tr>\n",
       "      <th>28</th>\n",
       "      <td>2020-03-11</td>\n",
       "      <td>2281.0</td>\n",
       "      <td>48.0</td>\n",
       "      <td>118628.0</td>\n",
       "      <td>4292.0</td>\n",
       "    </tr>\n",
       "    <tr>\n",
       "      <th>29</th>\n",
       "      <td>2020-03-12</td>\n",
       "      <td>2876.0</td>\n",
       "      <td>61.0</td>\n",
       "      <td>125518.0</td>\n",
       "      <td>4617.0</td>\n",
       "    </tr>\n",
       "    <tr>\n",
       "      <th>30</th>\n",
       "      <td>2020-03-13</td>\n",
       "      <td>3661.0</td>\n",
       "      <td>79.0</td>\n",
       "      <td>133860.0</td>\n",
       "      <td>4967.0</td>\n",
       "    </tr>\n",
       "    <tr>\n",
       "      <th>31</th>\n",
       "      <td>2020-03-14</td>\n",
       "      <td>4499.0</td>\n",
       "      <td>91.0</td>\n",
       "      <td>143247.0</td>\n",
       "      <td>5407.0</td>\n",
       "    </tr>\n",
       "    <tr>\n",
       "      <th>32</th>\n",
       "      <td>2020-03-15</td>\n",
       "      <td>5423.0</td>\n",
       "      <td>127.0</td>\n",
       "      <td>151363.0</td>\n",
       "      <td>5758.0</td>\n",
       "    </tr>\n",
       "    <tr>\n",
       "      <th>33</th>\n",
       "      <td>2020-03-16</td>\n",
       "      <td>6633.0</td>\n",
       "      <td>148.0</td>\n",
       "      <td>167414.0</td>\n",
       "      <td>6507.0</td>\n",
       "    </tr>\n",
       "    <tr>\n",
       "      <th>34</th>\n",
       "      <td>2020-03-17</td>\n",
       "      <td>7730.0</td>\n",
       "      <td>175.0</td>\n",
       "      <td>180160.0</td>\n",
       "      <td>7103.0</td>\n",
       "    </tr>\n",
       "    <tr>\n",
       "      <th>35</th>\n",
       "      <td>2020-03-18</td>\n",
       "      <td>9134.0</td>\n",
       "      <td>244.0</td>\n",
       "      <td>194213.0</td>\n",
       "      <td>7869.0</td>\n",
       "    </tr>\n",
       "    <tr>\n",
       "      <th>36</th>\n",
       "      <td>2020-03-19</td>\n",
       "      <td>10995.0</td>\n",
       "      <td>372.0</td>\n",
       "      <td>213254.0</td>\n",
       "      <td>8843.0</td>\n",
       "    </tr>\n",
       "    <tr>\n",
       "      <th>37</th>\n",
       "      <td>2020-03-20</td>\n",
       "      <td>12612.0</td>\n",
       "      <td>450.0</td>\n",
       "      <td>242488.0</td>\n",
       "      <td>9885.0</td>\n",
       "    </tr>\n",
       "    <tr>\n",
       "      <th>38</th>\n",
       "      <td>2020-03-21</td>\n",
       "      <td>14459.0</td>\n",
       "      <td>562.0</td>\n",
       "      <td>271364.0</td>\n",
       "      <td>11252.0</td>\n",
       "    </tr>\n",
       "    <tr>\n",
       "      <th>39</th>\n",
       "      <td>2020-03-22</td>\n",
       "      <td>16689.0</td>\n",
       "      <td>674.0</td>\n",
       "      <td>305275.0</td>\n",
       "      <td>12942.0</td>\n",
       "    </tr>\n",
       "    <tr>\n",
       "      <th>40</th>\n",
       "      <td>2020-03-23</td>\n",
       "      <td>19856.0</td>\n",
       "      <td>860.0</td>\n",
       "      <td>338307.0</td>\n",
       "      <td>14602.0</td>\n",
       "    </tr>\n",
       "    <tr>\n",
       "      <th>41</th>\n",
       "      <td>2020-03-24</td>\n",
       "      <td>22302.0</td>\n",
       "      <td>1100.0</td>\n",
       "      <td>378041.0</td>\n",
       "      <td>16365.0</td>\n",
       "    </tr>\n",
       "  </tbody>\n",
       "</table>\n",
       "</div>"
      ],
      "text/plain": [
       "          Date  FR Cas Confirmés  FR Décès  WW Cas Confirmés  WW Décès\n",
       "0   2020-01-25               3.0       0.0            1329.0      41.0\n",
       "1   2020-01-26               3.0       0.0            2026.0      56.0\n",
       "2   2020-01-27               3.0       0.0            2820.0      81.0\n",
       "3   2020-01-28               4.0       0.0               0.0       0.0\n",
       "4   2020-01-29               5.0       0.0            6072.0     132.0\n",
       "5   2020-01-30               6.0       0.0            7790.0     170.0\n",
       "6   2020-01-31               6.0       0.0            9831.0     213.0\n",
       "7   2020-02-03               6.0       0.0           17383.0     362.0\n",
       "8   2020-02-05               6.0       0.0           24530.0     493.0\n",
       "9   2020-02-06               6.0       0.0           28284.0     565.0\n",
       "10  2020-02-07              11.0       0.0           31503.0     638.0\n",
       "11  2020-02-08              11.0       0.0           34945.0     724.0\n",
       "12  2020-02-10              11.0       0.0           40553.0     910.0\n",
       "13  2020-02-11              11.0       0.0           43118.0    1018.0\n",
       "14  2020-02-12              11.0       0.0           45179.0    1116.0\n",
       "15  2020-02-20              12.0       1.0           75744.0    2128.0\n",
       "16  2020-02-26              17.0       2.0           81027.0    2764.0\n",
       "17  2020-02-28              38.0       2.0               0.0       0.0\n",
       "18  2020-02-29              73.0       2.0               0.0       0.0\n",
       "19  2020-03-02             178.0       3.0               0.0       0.0\n",
       "20  2020-03-03             212.0       4.0           90663.0    3125.0\n",
       "21  2020-03-04             285.0       4.0           93076.0    3202.0\n",
       "22  2020-03-05             423.0       5.0           95315.0    3282.0\n",
       "23  2020-03-06             613.0       9.0           98171.0    3385.0\n",
       "24  2020-03-07             949.0      11.0          101855.0    3488.0\n",
       "25  2020-03-08            1126.0      19.0          105828.0    3584.0\n",
       "26  2020-03-09            1412.0      30.0          109695.0    3811.0\n",
       "27  2020-03-10            1784.0      33.0               0.0       0.0\n",
       "28  2020-03-11            2281.0      48.0          118628.0    4292.0\n",
       "29  2020-03-12            2876.0      61.0          125518.0    4617.0\n",
       "30  2020-03-13            3661.0      79.0          133860.0    4967.0\n",
       "31  2020-03-14            4499.0      91.0          143247.0    5407.0\n",
       "32  2020-03-15            5423.0     127.0          151363.0    5758.0\n",
       "33  2020-03-16            6633.0     148.0          167414.0    6507.0\n",
       "34  2020-03-17            7730.0     175.0          180160.0    7103.0\n",
       "35  2020-03-18            9134.0     244.0          194213.0    7869.0\n",
       "36  2020-03-19           10995.0     372.0          213254.0    8843.0\n",
       "37  2020-03-20           12612.0     450.0          242488.0    9885.0\n",
       "38  2020-03-21           14459.0     562.0          271364.0   11252.0\n",
       "39  2020-03-22           16689.0     674.0          305275.0   12942.0\n",
       "40  2020-03-23           19856.0     860.0          338307.0   14602.0\n",
       "41  2020-03-24           22302.0    1100.0          378041.0   16365.0"
      ]
     },
     "execution_count": 21,
     "metadata": {},
     "output_type": "execute_result"
    }
   ],
   "source": [
    "dateDebut = \"2020-01-24\"\n",
    "aujourdhui = date.today().strftime(\"%Y-%m-%d\")\n",
    "dStartingDate = datetime.fromisoformat(dateDebut) \n",
    "\n",
    "i=1\n",
    "requesReturnCode=200\n",
    "yamls = pd.DataFrame()\n",
    "\n",
    "def recupDataWithException2(_jsonout, _index1, _index2):\n",
    "    try:\n",
    "        data = _jsonout[_index1][_index2]\n",
    "    except:\n",
    "        data = 0\n",
    "    return data\n",
    "\n",
    "def ajouteYamlDansDF(jsonout, df):\n",
    "    df = df.append({\n",
    "                'Date' : jsonout['date'] , \n",
    "                'FR Cas Confirmés' : recupDataWithException2(jsonout, 'donneesNationales', 'casConfirmes') , \n",
    "                'FR Décès' : recupDataWithException2(jsonout, 'donneesNationales', 'deces'), \n",
    "                'WW Cas Confirmés' : recupDataWithException2(jsonout,'donneesMondiales', 'casConfirmes'),\n",
    "                'WW Décès' : recupDataWithException2(jsonout,'donneesMondiales', 'deces')\n",
    "                 } , \n",
    "                 ignore_index=True)\n",
    "    return df\n",
    "\n",
    "dateParcours = dateDebut\n",
    "while (dateParcours != aujourdhui):\n",
    "    myDate = dStartingDate + timedelta(days=i)\n",
    "    dateParcours = myDate.strftime(\"%Y-%m-%d\")\n",
    "    fichier = 'https://raw.githubusercontent.com/opencovid19-fr/data/master/sante-publique-france/' + dateParcours + '.yaml'\n",
    "    print ('Récupère le fichier', fichier)\n",
    "    req = requests.get(fichier)\n",
    "    requesReturnCode = req.status_code\n",
    "    if (requesReturnCode==200):\n",
    "        yamlout = yaml.load(req.text, Loader=yaml.FullLoader)\n",
    "        yamls = ajouteYamlDansDF(yamlout, yamls)\n",
    "    else:\n",
    "        print (\"Erreur de récupération du fichier pour la date du \", myDate.strftime(\"%Y-%m-%d\"))\n",
    "    i=i+1\n",
    "    time.sleep(1)\n",
    "    \n",
    "yamls"
   ]
  },
  {
   "cell_type": "code",
   "execution_count": 28,
   "metadata": {},
   "outputs": [],
   "source": [
    "yamls.to_csv(\"datafr.csv\", index=False)"
   ]
  },
  {
   "cell_type": "code",
   "execution_count": null,
   "metadata": {},
   "outputs": [],
   "source": []
  }
 ],
 "metadata": {
  "kernelspec": {
   "display_name": "Python 3",
   "language": "python",
   "name": "python3"
  },
  "language_info": {
   "codemirror_mode": {
    "name": "ipython",
    "version": 3
   },
   "file_extension": ".py",
   "mimetype": "text/x-python",
   "name": "python",
   "nbconvert_exporter": "python",
   "pygments_lexer": "ipython3",
   "version": "3.7.6"
  }
 },
 "nbformat": 4,
 "nbformat_minor": 4
}
