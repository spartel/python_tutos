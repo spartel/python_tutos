{
 "cells": [
  {
   "cell_type": "code",
   "execution_count": 52,
   "metadata": {},
   "outputs": [],
   "source": [
    "import yaml\n",
    "import requests\n",
    "import time\n",
    "from datetime import datetime, timedelta, date\n",
    "import pandas as pd"
   ]
  },
  {
   "cell_type": "markdown",
   "metadata": {},
   "source": [
    "Les données sont mises à disposition sur https://github.com/opencovid19-fr/data par sante-publique-france"
   ]
  },
  {
   "cell_type": "markdown",
   "metadata": {},
   "source": [
    "## Automatisation de la récupération des données"
   ]
  },
  {
   "cell_type": "code",
   "execution_count": 53,
   "metadata": {},
   "outputs": [
    {
     "data": {
      "text/plain": [
       "200"
      ]
     },
     "execution_count": 53,
     "metadata": {},
     "output_type": "execute_result"
    }
   ],
   "source": [
    "r = requests.get('https://raw.githubusercontent.com/opencovid19-fr/data/master/sante-publique-france/2020-01-24.yaml')\n",
    "r.status_code"
   ]
  },
  {
   "cell_type": "code",
   "execution_count": 54,
   "metadata": {},
   "outputs": [
    {
     "data": {
      "text/plain": [
       "'date: \"2020-01-24\"\\nsource:\\n  nom: Santé publique France\\n  url: https://www.santepubliquefrance.fr/maladies-et-traumatismes/maladies-et-infections-respiratoires/infection-a-coronavirus/articles/cas-de-pneumonies-associees-a-un-nouveau-coronavirus-2019-ncov-a-wuhan-en-chine\\n  archive: https://web.archive.org/web/20200124202351/https://www.santepubliquefrance.fr/maladies-et-traumatismes/maladies-et-infections-respiratoires/infection-a-coronavirus/articles/cas-de-pneumonies-associees-a-un-nouveau-coronavirus-2019-ncov-a-wuhan-en-chine\\ndonneesNationales: # Voir archive 2 en bas de page (après le bulletin du 12/02)\\n  casConfirmes: 3 # cas mise à jour suite à la publication du 27/01 de la SPF qui mentionnent ces 3 cas comme existant depuis le 24/01\\n  hospitalises: 3\\n  deces: 0\\ndonneesRegionales: # Voir archive 2 en bas de page (après le bulletin du 12/02)\\n  - nom: Île-de-France\\n    code: REG-11\\n    casConfirmes: 2\\n    hospitalises: 2\\n  - nom: Nouvelle-Aquitaine\\n    code: REG-75\\n    casConfirmes: 1\\n    hospitalises: 1\\n    donneesRegionales:\\ndonneesDepartementales: # Voir archive 2 en bas de page (après le bulletin du 12/02)\\n  - nom: Gironde\\n    code: DEP-33\\n    casConfirmes: 1\\n    hospitalises: 1\\ndonneesMondiales:\\n  paysTouches: 8 # Chine, Thaïlande, Singapour, Japon, République de Corée, Vietnam, Taïwan et Etats-Unis\\n  casConfirmes: 897\\n  deces: 26\\n\\n# 2e archive: https://web.archive.org/web/20200212192607/https://www.santepubliquefrance.fr/maladies-et-traumatismes/maladies-et-infections-respiratoires/infection-a-coronavirus/articles/epidemie-de-coronavirus-covid-19-au-depart-de-wuhan-chine\\n'"
      ]
     },
     "execution_count": 54,
     "metadata": {},
     "output_type": "execute_result"
    }
   ],
   "source": [
    "r.text"
   ]
  },
  {
   "cell_type": "code",
   "execution_count": 55,
   "metadata": {},
   "outputs": [],
   "source": [
    "y = yaml.load(r.text, Loader=yaml.FullLoader)"
   ]
  },
  {
   "cell_type": "code",
   "execution_count": 56,
   "metadata": {},
   "outputs": [
    {
     "data": {
      "text/plain": [
       "{'date': '2020-01-24',\n",
       " 'source': {'nom': 'Santé publique France',\n",
       "  'url': 'https://www.santepubliquefrance.fr/maladies-et-traumatismes/maladies-et-infections-respiratoires/infection-a-coronavirus/articles/cas-de-pneumonies-associees-a-un-nouveau-coronavirus-2019-ncov-a-wuhan-en-chine',\n",
       "  'archive': 'https://web.archive.org/web/20200124202351/https://www.santepubliquefrance.fr/maladies-et-traumatismes/maladies-et-infections-respiratoires/infection-a-coronavirus/articles/cas-de-pneumonies-associees-a-un-nouveau-coronavirus-2019-ncov-a-wuhan-en-chine'},\n",
       " 'donneesNationales': {'casConfirmes': 3, 'hospitalises': 3, 'deces': 0},\n",
       " 'donneesRegionales': [{'nom': 'Île-de-France',\n",
       "   'code': 'REG-11',\n",
       "   'casConfirmes': 2,\n",
       "   'hospitalises': 2},\n",
       "  {'nom': 'Nouvelle-Aquitaine',\n",
       "   'code': 'REG-75',\n",
       "   'casConfirmes': 1,\n",
       "   'hospitalises': 1,\n",
       "   'donneesRegionales': None}],\n",
       " 'donneesDepartementales': [{'nom': 'Gironde',\n",
       "   'code': 'DEP-33',\n",
       "   'casConfirmes': 1,\n",
       "   'hospitalises': 1}],\n",
       " 'donneesMondiales': {'paysTouches': 8, 'casConfirmes': 897, 'deces': 26}}"
      ]
     },
     "execution_count": 56,
     "metadata": {},
     "output_type": "execute_result"
    }
   ],
   "source": [
    "y"
   ]
  },
  {
   "cell_type": "markdown",
   "metadata": {},
   "source": [
    "### Avec une seule fonction ..."
   ]
  },
  {
   "cell_type": "code",
   "execution_count": 57,
   "metadata": {},
   "outputs": [
    {
     "name": "stdout",
     "output_type": "stream",
     "text": [
      "{'date': datetime.date(2020, 3, 24), 'source': {'nom': 'Santé publique France', 'url': 'https://www.santepubliquefrance.fr/maladies-et-traumatismes/maladies-et-infections-respiratoires/infection-a-coronavirus/articles/infection-au-nouveau-coronavirus-sars-cov-2-covid-19-france-et-monde', 'archive': 'https://web.archive.org/web/20200324193012/https://www.santepubliquefrance.fr/maladies-et-traumatismes/maladies-et-infections-respiratoires/infection-a-coronavirus/articles/infection-au-nouveau-coronavirus-sars-cov-2-covid-19-france-et-monde'}, 'donneesNationales': {'casConfirmes': 22302, 'deces': 1100}, 'donneesRegionales': [{'nom': 'Auvergne-Rhône-Alpes', 'code': 'REG-84', 'casConfirmes': 1857}, {'nom': 'Bourgogne-Franche-Comté', 'code': 'REG-27', 'casConfirmes': 1510}, {'nom': 'Bretagne', 'code': 'REG-53', 'casConfirmes': 526}, {'nom': 'Centre-Val de Loire', 'code': 'REG-24', 'casConfirmes': 450}, {'nom': 'Corse', 'code': 'REG-94', 'casConfirmes': 217}, {'nom': 'Grand Est', 'code': 'REG-44', 'casConfirmes': 4922}, {'nom': 'Hauts-de-France', 'code': 'REG-32', 'casConfirmes': 1532}, {'nom': 'Île-de-France', 'code': 'REG-11', 'casConfirmes': 6798}, {'nom': 'Normandie', 'code': 'REG-28', 'casConfirmes': 586}, {'nom': 'Nouvelle-Aquitaine', 'code': 'REG-75', 'casConfirmes': 789}, {'nom': 'Occitanie', 'code': 'REG-76', 'casConfirmes': 900}, {'nom': 'Pays de la Loire', 'code': 'REG-52', 'casConfirmes': 343}, {'nom': \"Provence-Alpes-Côte d'Azur\", 'code': 'REG-93', 'casConfirmes': 1595}, {'nom': 'Guadeloupe', 'code': 'REG-01', 'casConfirmes': 73}, {'nom': 'Martinique', 'code': 'REG-02', 'casConfirmes': 57}, {'nom': 'Guyane', 'code': 'REG-03', 'casConfirmes': 23}, {'nom': 'La Réunion', 'code': 'REG-04', 'casConfirmes': 83}, {'nom': 'Mayotte', 'code': 'REG-06', 'casConfirmes': 30}, {'nom': 'Saint-Barthélemy', 'code': 'COM-977', 'casConfirmes': 3}, {'nom': 'Saint-Martin', 'code': 'COM-978', 'casConfirmes': 8}], 'donneesMondiales': {'casConfirmes': 378041, 'deces': 16365}}\n"
     ]
    }
   ],
   "source": [
    "r = requests.get('https://raw.githubusercontent.com/opencovid19-fr/data/master/sante-publique-france/2020-03-24.yaml')\n",
    "if (r.status_code==200):\n",
    "    print (yaml.load(r.text, Loader=yaml.FullLoader))"
   ]
  },
  {
   "cell_type": "code",
   "execution_count": 59,
   "metadata": {},
   "outputs": [],
   "source": [
    "hier = date.today() + timedelta(-1)\n",
    "shier = hier.strftime(\"%Y-%m-%d\")\n",
    "fichier = 'https://raw.githubusercontent.com/opencovid19-fr/data/master/sante-publique-france/' + shier + '.yaml'"
   ]
  },
  {
   "cell_type": "markdown",
   "metadata": {},
   "source": [
    "## Création d'une fonction qui récupère les données d'hier sur le Covid19"
   ]
  },
  {
   "cell_type": "code",
   "execution_count": 60,
   "metadata": {},
   "outputs": [],
   "source": [
    "def RecupCovid19Hier():\n",
    "    hier = date.today() + timedelta(-1)\n",
    "    shier = hier.strftime(\"%Y-%m-%d\")\n",
    "    fichier = 'https://raw.githubusercontent.com/opencovid19-fr/data/master/sante-publique-france/' + shier + '.yaml'\n",
    "    out = \"\"\n",
    "    r = requests.get(fichier)\n",
    "    if (r.status_code==200):\n",
    "       out = yaml.load(r.text, Loader=yaml.FullLoader)\n",
    "    return out"
   ]
  },
  {
   "cell_type": "code",
   "execution_count": 61,
   "metadata": {},
   "outputs": [
    {
     "data": {
      "text/plain": [
       "''"
      ]
     },
     "execution_count": 61,
     "metadata": {},
     "output_type": "execute_result"
    }
   ],
   "source": [
    "jsonout = RecupCovid19Hier()\n",
    "jsonout"
   ]
  },
  {
   "cell_type": "code",
   "execution_count": 62,
   "metadata": {},
   "outputs": [
    {
     "ename": "TypeError",
     "evalue": "string indices must be integers",
     "output_type": "error",
     "traceback": [
      "\u001b[0;31m---------------------------------------------------------------------------\u001b[0m",
      "\u001b[0;31mTypeError\u001b[0m                                 Traceback (most recent call last)",
      "\u001b[0;32m<ipython-input-62-2f09dd39db09>\u001b[0m in \u001b[0;36m<module>\u001b[0;34m\u001b[0m\n\u001b[0;32m----> 1\u001b[0;31m \u001b[0mjsonout\u001b[0m\u001b[0;34m[\u001b[0m\u001b[0;34m'date'\u001b[0m\u001b[0;34m]\u001b[0m\u001b[0;34m.\u001b[0m\u001b[0mstrftime\u001b[0m\u001b[0;34m(\u001b[0m\u001b[0;34m\"%Y-%m-%d\"\u001b[0m\u001b[0;34m)\u001b[0m\u001b[0;34m\u001b[0m\u001b[0;34m\u001b[0m\u001b[0m\n\u001b[0m",
      "\u001b[0;31mTypeError\u001b[0m: string indices must be integers"
     ]
    }
   ],
   "source": [
    "jsonout['date'].strftime(\"%Y-%m-%d\")"
   ]
  },
  {
   "cell_type": "code",
   "execution_count": 34,
   "metadata": {},
   "outputs": [
    {
     "data": {
      "text/plain": [
       "22302"
      ]
     },
     "execution_count": 34,
     "metadata": {},
     "output_type": "execute_result"
    }
   ],
   "source": [
    "jsonout['donneesNationales']['casConfirmes']"
   ]
  },
  {
   "cell_type": "markdown",
   "metadata": {},
   "source": [
    "## Sérialisation des données dans un dataframe"
   ]
  },
  {
   "cell_type": "code",
   "execution_count": 61,
   "metadata": {},
   "outputs": [
    {
     "data": {
      "text/html": [
       "<div>\n",
       "<style scoped>\n",
       "    .dataframe tbody tr th:only-of-type {\n",
       "        vertical-align: middle;\n",
       "    }\n",
       "\n",
       "    .dataframe tbody tr th {\n",
       "        vertical-align: top;\n",
       "    }\n",
       "\n",
       "    .dataframe thead th {\n",
       "        text-align: right;\n",
       "    }\n",
       "</style>\n",
       "<table border=\"1\" class=\"dataframe\">\n",
       "  <thead>\n",
       "    <tr style=\"text-align: right;\">\n",
       "      <th></th>\n",
       "      <th>Date</th>\n",
       "      <th>FR Cas Confirmés</th>\n",
       "      <th>FR Décès</th>\n",
       "      <th>WW Cas Confirmés</th>\n",
       "      <th>WW Décès</th>\n",
       "    </tr>\n",
       "  </thead>\n",
       "  <tbody>\n",
       "    <tr>\n",
       "      <th>0</th>\n",
       "      <td>2020-03-24</td>\n",
       "      <td>22302.0</td>\n",
       "      <td>1100.0</td>\n",
       "      <td>378041.0</td>\n",
       "      <td>16365.0</td>\n",
       "    </tr>\n",
       "  </tbody>\n",
       "</table>\n",
       "</div>"
      ],
      "text/plain": [
       "         Date  FR Cas Confirmés  FR Décès  WW Cas Confirmés  WW Décès\n",
       "0  2020-03-24           22302.0    1100.0          378041.0   16365.0"
      ]
     },
     "execution_count": 61,
     "metadata": {},
     "output_type": "execute_result"
    }
   ],
   "source": [
    "A = pd.DataFrame()\n",
    "A = A.append({\n",
    "                'Date' : jsonout['date'].strftime(\"%Y-%m-%d\") , \n",
    "                'FR Cas Confirmés' : jsonout['donneesNationales']['casConfirmes'] , \n",
    "                'FR Décès' : jsonout['donneesNationales']['deces'], \n",
    "                'WW Cas Confirmés' : jsonout['donneesMondiales']['casConfirmes'],\n",
    "                'WW Décès' : jsonout['donneesMondiales']['deces']\n",
    "             } , \n",
    "             ignore_index=True)\n",
    "A"
   ]
  },
  {
   "cell_type": "code",
   "execution_count": 75,
   "metadata": {},
   "outputs": [
    {
     "data": {
      "text/plain": [
       "datetime.datetime(2020, 1, 24, 0, 0)"
      ]
     },
     "execution_count": 75,
     "metadata": {},
     "output_type": "execute_result"
    }
   ],
   "source": [
    "datetime_object = datetime.strptime(StartingDate, '%Y-%m-%d')\n",
    "datetime_object"
   ]
  },
  {
   "cell_type": "code",
   "execution_count": 79,
   "metadata": {},
   "outputs": [
    {
     "name": "stdout",
     "output_type": "stream",
     "text": [
      "2020-01-24\n"
     ]
    }
   ],
   "source": [
    "date_str = \"2020-01-24\"\n",
    "date_object = datetime.strptime(date_str, '%Y-%m-%d').date()\n",
    "print(date_object)"
   ]
  },
  {
   "cell_type": "markdown",
   "metadata": {},
   "source": [
    "## Fonction globale / récupération des données brutes de Santé Publique France"
   ]
  },
  {
   "cell_type": "code",
   "execution_count": 124,
   "metadata": {},
   "outputs": [
    {
     "name": "stdout",
     "output_type": "stream",
     "text": [
      "--> Démarrage du process\n",
      "(*) Pas de données pour  2020-02-01\n",
      "(*) Pas de données pour  2020-02-02\n",
      "(*) Pas de données pour  2020-02-04\n",
      "(*) Pas de données pour  2020-02-09\n",
      "(*) Pas de données pour  2020-02-13\n",
      "(*) Pas de données pour  2020-02-14\n",
      "(*) Pas de données pour  2020-02-15\n",
      "(*) Pas de données pour  2020-02-16\n",
      "(*) Pas de données pour  2020-02-17\n",
      "(*) Pas de données pour  2020-02-18\n",
      "(*) Pas de données pour  2020-02-19\n",
      "(*) Pas de données pour  2020-02-21\n",
      "(*) Pas de données pour  2020-02-22\n",
      "(*) Pas de données pour  2020-02-23\n",
      "(*) Pas de données pour  2020-02-24\n",
      "(*) Pas de données pour  2020-02-27\n",
      "(*) Pas de données pour  2020-03-01\n",
      "(*) Pas de données pour  2020-03-29\n",
      "--> Fin du process\n"
     ]
    },
    {
     "data": {
      "text/html": [
       "<div>\n",
       "<style scoped>\n",
       "    .dataframe tbody tr th:only-of-type {\n",
       "        vertical-align: middle;\n",
       "    }\n",
       "\n",
       "    .dataframe tbody tr th {\n",
       "        vertical-align: top;\n",
       "    }\n",
       "\n",
       "    .dataframe thead th {\n",
       "        text-align: right;\n",
       "    }\n",
       "</style>\n",
       "<table border=\"1\" class=\"dataframe\">\n",
       "  <thead>\n",
       "    <tr style=\"text-align: right;\">\n",
       "      <th></th>\n",
       "      <th>Date</th>\n",
       "      <th>FR Tot Cas Confirmés</th>\n",
       "      <th>FR Tot Décès</th>\n",
       "      <th>FR Tot Guéris</th>\n",
       "      <th>FR Tot Hospitalisés</th>\n",
       "      <th>Source</th>\n",
       "      <th>WW Tot Cas Confirmés</th>\n",
       "      <th>WW Tot Décès</th>\n",
       "    </tr>\n",
       "  </thead>\n",
       "  <tbody>\n",
       "    <tr>\n",
       "      <th>0</th>\n",
       "      <td>2020-01-24</td>\n",
       "      <td>3.0</td>\n",
       "      <td>0.0</td>\n",
       "      <td>0.0</td>\n",
       "      <td>0.0</td>\n",
       "      <td>sante-publique-france</td>\n",
       "      <td>897.0</td>\n",
       "      <td>26.0</td>\n",
       "    </tr>\n",
       "    <tr>\n",
       "      <th>1</th>\n",
       "      <td>2020-01-25</td>\n",
       "      <td>3.0</td>\n",
       "      <td>0.0</td>\n",
       "      <td>0.0</td>\n",
       "      <td>0.0</td>\n",
       "      <td>sante-publique-france</td>\n",
       "      <td>1329.0</td>\n",
       "      <td>41.0</td>\n",
       "    </tr>\n",
       "    <tr>\n",
       "      <th>2</th>\n",
       "      <td>2020-01-26</td>\n",
       "      <td>3.0</td>\n",
       "      <td>0.0</td>\n",
       "      <td>0.0</td>\n",
       "      <td>0.0</td>\n",
       "      <td>sante-publique-france</td>\n",
       "      <td>2026.0</td>\n",
       "      <td>56.0</td>\n",
       "    </tr>\n",
       "    <tr>\n",
       "      <th>3</th>\n",
       "      <td>2020-01-27</td>\n",
       "      <td>3.0</td>\n",
       "      <td>0.0</td>\n",
       "      <td>0.0</td>\n",
       "      <td>0.0</td>\n",
       "      <td>sante-publique-france</td>\n",
       "      <td>2820.0</td>\n",
       "      <td>81.0</td>\n",
       "    </tr>\n",
       "    <tr>\n",
       "      <th>4</th>\n",
       "      <td>2020-01-28</td>\n",
       "      <td>4.0</td>\n",
       "      <td>0.0</td>\n",
       "      <td>0.0</td>\n",
       "      <td>0.0</td>\n",
       "      <td>sante-publique-france</td>\n",
       "      <td>0.0</td>\n",
       "      <td>0.0</td>\n",
       "    </tr>\n",
       "    <tr>\n",
       "      <th>...</th>\n",
       "      <td>...</td>\n",
       "      <td>...</td>\n",
       "      <td>...</td>\n",
       "      <td>...</td>\n",
       "      <td>...</td>\n",
       "      <td>...</td>\n",
       "      <td>...</td>\n",
       "      <td>...</td>\n",
       "    </tr>\n",
       "    <tr>\n",
       "      <th>61</th>\n",
       "      <td>2020-03-25</td>\n",
       "      <td>25233.0</td>\n",
       "      <td>1331.0</td>\n",
       "      <td>0.0</td>\n",
       "      <td>0.0</td>\n",
       "      <td>sante-publique-france</td>\n",
       "      <td>416916.0</td>\n",
       "      <td>18865.0</td>\n",
       "    </tr>\n",
       "    <tr>\n",
       "      <th>62</th>\n",
       "      <td>2020-03-26</td>\n",
       "      <td>29155.0</td>\n",
       "      <td>1696.0</td>\n",
       "      <td>0.0</td>\n",
       "      <td>0.0</td>\n",
       "      <td>sante-publique-france</td>\n",
       "      <td>467710.0</td>\n",
       "      <td>20947.0</td>\n",
       "    </tr>\n",
       "    <tr>\n",
       "      <th>63</th>\n",
       "      <td>2020-03-27</td>\n",
       "      <td>32964.0</td>\n",
       "      <td>1995.0</td>\n",
       "      <td>0.0</td>\n",
       "      <td>0.0</td>\n",
       "      <td>sante-publique-france</td>\n",
       "      <td>528025.0</td>\n",
       "      <td>23672.0</td>\n",
       "    </tr>\n",
       "    <tr>\n",
       "      <th>64</th>\n",
       "      <td>2020-03-28</td>\n",
       "      <td>37575.0</td>\n",
       "      <td>2314.0</td>\n",
       "      <td>0.0</td>\n",
       "      <td>0.0</td>\n",
       "      <td>sante-publique-france</td>\n",
       "      <td>591971.0</td>\n",
       "      <td>27090.0</td>\n",
       "    </tr>\n",
       "    <tr>\n",
       "      <th>65</th>\n",
       "      <td>2020-03-29</td>\n",
       "      <td>0.0</td>\n",
       "      <td>0.0</td>\n",
       "      <td>0.0</td>\n",
       "      <td>0.0</td>\n",
       "      <td>no-data</td>\n",
       "      <td>0.0</td>\n",
       "      <td>0.0</td>\n",
       "    </tr>\n",
       "  </tbody>\n",
       "</table>\n",
       "<p>66 rows × 8 columns</p>\n",
       "</div>"
      ],
      "text/plain": [
       "          Date  FR Tot Cas Confirmés  FR Tot Décès  FR Tot Guéris  \\\n",
       "0   2020-01-24                   3.0           0.0            0.0   \n",
       "1   2020-01-25                   3.0           0.0            0.0   \n",
       "2   2020-01-26                   3.0           0.0            0.0   \n",
       "3   2020-01-27                   3.0           0.0            0.0   \n",
       "4   2020-01-28                   4.0           0.0            0.0   \n",
       "..         ...                   ...           ...            ...   \n",
       "61  2020-03-25               25233.0        1331.0            0.0   \n",
       "62  2020-03-26               29155.0        1696.0            0.0   \n",
       "63  2020-03-27               32964.0        1995.0            0.0   \n",
       "64  2020-03-28               37575.0        2314.0            0.0   \n",
       "65  2020-03-29                   0.0           0.0            0.0   \n",
       "\n",
       "    FR Tot Hospitalisés                 Source  WW Tot Cas Confirmés  \\\n",
       "0                   0.0  sante-publique-france                 897.0   \n",
       "1                   0.0  sante-publique-france                1329.0   \n",
       "2                   0.0  sante-publique-france                2026.0   \n",
       "3                   0.0  sante-publique-france                2820.0   \n",
       "4                   0.0  sante-publique-france                   0.0   \n",
       "..                  ...                    ...                   ...   \n",
       "61                  0.0  sante-publique-france              416916.0   \n",
       "62                  0.0  sante-publique-france              467710.0   \n",
       "63                  0.0  sante-publique-france              528025.0   \n",
       "64                  0.0  sante-publique-france              591971.0   \n",
       "65                  0.0                no-data                   0.0   \n",
       "\n",
       "    WW Tot Décès  \n",
       "0           26.0  \n",
       "1           41.0  \n",
       "2           56.0  \n",
       "3           81.0  \n",
       "4            0.0  \n",
       "..           ...  \n",
       "61       18865.0  \n",
       "62       20947.0  \n",
       "63       23672.0  \n",
       "64       27090.0  \n",
       "65           0.0  \n",
       "\n",
       "[66 rows x 8 columns]"
      ]
     },
     "execution_count": 124,
     "metadata": {},
     "output_type": "execute_result"
    }
   ],
   "source": [
    "# INITIALISATION DE VARIABLES GLOBALES\n",
    "sDateDebut = \"2020-01-23\"\n",
    "sAujourdhui = date.today().strftime(\"%Y-%m-%d\")\n",
    "dDemarrageDate = datetime.fromisoformat(sDateDebut) \n",
    "cols = ['Date', \n",
    "        'FR Tot Cas Confirmés', \n",
    "        'FR Tot Décès', \n",
    "        'WW Tot Cas Confirmés', \n",
    "        'WW Tot Décès', \n",
    "        'Source',\n",
    "        'FR Tot Guéris',\n",
    "        'FR Tot Hospitalisés'\n",
    "       ]\n",
    "\n",
    "# FONCTIONS\n",
    "def recupDataWithException2(_jsonout, _index1, _index2):\n",
    "    try:\n",
    "        data = _jsonout[_index1][_index2]\n",
    "    except:\n",
    "        data = 0\n",
    "    return data\n",
    "\n",
    "def AjouteSantePubliqueFrLigne(jsonout, df):\n",
    "    df = df.append({\n",
    "                    cols[0] : jsonout['date'] , \n",
    "                    cols[1] : recupDataWithException2(jsonout, 'donneesNationales', 'casConfirmes') , \n",
    "                    cols[2] : recupDataWithException2(jsonout, 'donneesNationales', 'deces'), \n",
    "                    cols[3] : recupDataWithException2(jsonout,'donneesMondiales', 'casConfirmes'),\n",
    "                    cols[4] : recupDataWithException2(jsonout,'donneesMondiales', 'deces'),\n",
    "                    cols[5] : 'sante-publique-france',\n",
    "                    cols[6] : 0,\n",
    "                    cols[7] : 0\n",
    "                 } , \n",
    "                 ignore_index=True)\n",
    "    return df\n",
    "\n",
    "def ajouteLigneVide(df, madate):\n",
    "    df = df.append({\n",
    "                    cols[0] : madate , \n",
    "                    cols[1] : 0,\n",
    "                    cols[2] : 0, \n",
    "                    cols[3] : 0,\n",
    "                    cols[4] : 0,\n",
    "                    cols[5] : 'no-data',\n",
    "                    cols[6] : 0,\n",
    "                    cols[7] : 0\n",
    "                 } , \n",
    "                 ignore_index=True)\n",
    "    return df\n",
    "\n",
    "# RECUPERATION DONNEES SANTE PUBLIQUE FRANCE\n",
    "def RecupereDonneesSantePubliqueFrance():\n",
    "    print ('--> Démarrage du process')\n",
    "    sDateParcours = sDateDebut\n",
    "    i=1\n",
    "    requesReturnCode=200\n",
    "    yamls = pd.DataFrame()\n",
    "    while (sDateParcours != sAujourdhui):\n",
    "        myDate = dDemarrageDate + timedelta(days=i)\n",
    "        sDateParcours = myDate.strftime(\"%Y-%m-%d\")\n",
    "        fichier = 'https://raw.githubusercontent.com/opencovid19-fr/data/master/sante-publique-france/' + sDateParcours + '.yaml'\n",
    "        #print ('--> sante-publique-france / ', sDateParcours)\n",
    "        req = requests.get(fichier)\n",
    "        requesReturnCode = req.status_code\n",
    "        if (requesReturnCode==200):\n",
    "            yamlout = yaml.load(req.text, Loader=yaml.FullLoader)\n",
    "            yamls = AjouteSantePubliqueFrLigne(yamlout, yamls)\n",
    "        else:\n",
    "            print (\"(*) Pas de données pour \", myDate.strftime(\"%Y-%m-%d\"))\n",
    "            # ajoute une ligne vide\n",
    "            yamls = ajouteLigneVide(yamls, myDate.strftime(\"%Y-%m-%d\"))\n",
    "        i=i+1\n",
    "    print ('--> Fin du process')\n",
    "    return yamls\n",
    "    \n",
    "data = RecupereDonneesSantePubliqueFrance()\n",
    "data"
   ]
  },
  {
   "cell_type": "markdown",
   "metadata": {},
   "source": [
    "## Consolidation avec les données du ministère de la santé"
   ]
  },
  {
   "cell_type": "markdown",
   "metadata": {},
   "source": [
    "On va récupérer les données du ministère et les consolider avec celles de Santé publique France"
   ]
  },
  {
   "cell_type": "markdown",
   "metadata": {},
   "source": [
    "https://raw.githubusercontent.com/opencovid19-fr/data/master/ministere-sante/2020-01-24.yaml"
   ]
  },
  {
   "cell_type": "code",
   "execution_count": 126,
   "metadata": {},
   "outputs": [
    {
     "name": "stdout",
     "output_type": "stream",
     "text": [
      "--> Démarrage du process\n"
     ]
    },
    {
     "name": "stderr",
     "output_type": "stream",
     "text": [
      "/opt/anaconda3/lib/python3.7/site-packages/ipykernel_launcher.py:25: SettingWithCopyWarning: \n",
      "A value is trying to be set on a copy of a slice from a DataFrame\n",
      "\n",
      "See the caveats in the documentation: http://pandas.pydata.org/pandas-docs/stable/user_guide/indexing.html#returning-a-view-versus-a-copy\n",
      "/opt/anaconda3/lib/python3.7/site-packages/ipykernel_launcher.py:26: SettingWithCopyWarning: \n",
      "A value is trying to be set on a copy of a slice from a DataFrame\n",
      "\n",
      "See the caveats in the documentation: http://pandas.pydata.org/pandas-docs/stable/user_guide/indexing.html#returning-a-view-versus-a-copy\n"
     ]
    },
    {
     "name": "stdout",
     "output_type": "stream",
     "text": [
      "(*) Modifie les données manquantes pour la date du  2020-02-02\n"
     ]
    },
    {
     "name": "stderr",
     "output_type": "stream",
     "text": [
      "/opt/anaconda3/lib/python3.7/site-packages/ipykernel_launcher.py:18: SettingWithCopyWarning: \n",
      "A value is trying to be set on a copy of a slice from a DataFrame\n",
      "\n",
      "See the caveats in the documentation: http://pandas.pydata.org/pandas-docs/stable/user_guide/indexing.html#returning-a-view-versus-a-copy\n",
      "/opt/anaconda3/lib/python3.7/site-packages/ipykernel_launcher.py:19: SettingWithCopyWarning: \n",
      "A value is trying to be set on a copy of a slice from a DataFrame\n",
      "\n",
      "See the caveats in the documentation: http://pandas.pydata.org/pandas-docs/stable/user_guide/indexing.html#returning-a-view-versus-a-copy\n",
      "/opt/anaconda3/lib/python3.7/site-packages/ipykernel_launcher.py:20: SettingWithCopyWarning: \n",
      "A value is trying to be set on a copy of a slice from a DataFrame\n",
      "\n",
      "See the caveats in the documentation: http://pandas.pydata.org/pandas-docs/stable/user_guide/indexing.html#returning-a-view-versus-a-copy\n",
      "/opt/anaconda3/lib/python3.7/site-packages/ipykernel_launcher.py:21: SettingWithCopyWarning: \n",
      "A value is trying to be set on a copy of a slice from a DataFrame\n",
      "\n",
      "See the caveats in the documentation: http://pandas.pydata.org/pandas-docs/stable/user_guide/indexing.html#returning-a-view-versus-a-copy\n",
      "/opt/anaconda3/lib/python3.7/site-packages/ipykernel_launcher.py:22: SettingWithCopyWarning: \n",
      "A value is trying to be set on a copy of a slice from a DataFrame\n",
      "\n",
      "See the caveats in the documentation: http://pandas.pydata.org/pandas-docs/stable/user_guide/indexing.html#returning-a-view-versus-a-copy\n"
     ]
    },
    {
     "name": "stdout",
     "output_type": "stream",
     "text": [
      "(*) Modifie les données manquantes pour la date du  2020-02-04\n",
      "(*) Modifie les données manquantes pour la date du  2020-02-09\n",
      "(*) Modifie les données manquantes pour la date du  2020-02-13\n",
      "(*) Modifie les données manquantes pour la date du  2020-02-15\n",
      "(*) Modifie les données manquantes pour la date du  2020-02-17\n",
      "(*) Modifie les données manquantes pour la date du  2020-02-19\n",
      "(*) Modifie les données manquantes pour la date du  2020-02-21\n",
      "(*) Modifie les données manquantes pour la date du  2020-02-23\n",
      "(*) Modifie les données manquantes pour la date du  2020-02-24\n",
      "(*) Modifie les données manquantes pour la date du  2020-02-27\n",
      "(*) Modifie les données manquantes pour la date du  2020-03-01\n",
      "--> Fin du process\n"
     ]
    },
    {
     "data": {
      "text/html": [
       "<div>\n",
       "<style scoped>\n",
       "    .dataframe tbody tr th:only-of-type {\n",
       "        vertical-align: middle;\n",
       "    }\n",
       "\n",
       "    .dataframe tbody tr th {\n",
       "        vertical-align: top;\n",
       "    }\n",
       "\n",
       "    .dataframe thead th {\n",
       "        text-align: right;\n",
       "    }\n",
       "</style>\n",
       "<table border=\"1\" class=\"dataframe\">\n",
       "  <thead>\n",
       "    <tr style=\"text-align: right;\">\n",
       "      <th></th>\n",
       "      <th>Date</th>\n",
       "      <th>FR Tot Cas Confirmés</th>\n",
       "      <th>FR Tot Décès</th>\n",
       "      <th>FR Tot Guéris</th>\n",
       "      <th>FR Tot Hospitalisés</th>\n",
       "      <th>Source</th>\n",
       "      <th>WW Tot Cas Confirmés</th>\n",
       "      <th>WW Tot Décès</th>\n",
       "    </tr>\n",
       "  </thead>\n",
       "  <tbody>\n",
       "    <tr>\n",
       "      <th>0</th>\n",
       "      <td>2020-01-24</td>\n",
       "      <td>3.0</td>\n",
       "      <td>0.0</td>\n",
       "      <td>3.0</td>\n",
       "      <td>0.0</td>\n",
       "      <td>sante-publique-france</td>\n",
       "      <td>897.0</td>\n",
       "      <td>26.0</td>\n",
       "    </tr>\n",
       "    <tr>\n",
       "      <th>1</th>\n",
       "      <td>2020-01-25</td>\n",
       "      <td>3.0</td>\n",
       "      <td>0.0</td>\n",
       "      <td>0.0</td>\n",
       "      <td>0.0</td>\n",
       "      <td>sante-publique-france</td>\n",
       "      <td>1329.0</td>\n",
       "      <td>41.0</td>\n",
       "    </tr>\n",
       "    <tr>\n",
       "      <th>2</th>\n",
       "      <td>2020-01-26</td>\n",
       "      <td>3.0</td>\n",
       "      <td>0.0</td>\n",
       "      <td>0.0</td>\n",
       "      <td>0.0</td>\n",
       "      <td>sante-publique-france</td>\n",
       "      <td>2026.0</td>\n",
       "      <td>56.0</td>\n",
       "    </tr>\n",
       "    <tr>\n",
       "      <th>3</th>\n",
       "      <td>2020-01-27</td>\n",
       "      <td>3.0</td>\n",
       "      <td>0.0</td>\n",
       "      <td>3.0</td>\n",
       "      <td>0.0</td>\n",
       "      <td>sante-publique-france</td>\n",
       "      <td>2820.0</td>\n",
       "      <td>81.0</td>\n",
       "    </tr>\n",
       "    <tr>\n",
       "      <th>4</th>\n",
       "      <td>2020-01-28</td>\n",
       "      <td>4.0</td>\n",
       "      <td>0.0</td>\n",
       "      <td>4.0</td>\n",
       "      <td>0.0</td>\n",
       "      <td>sante-publique-france</td>\n",
       "      <td>0.0</td>\n",
       "      <td>0.0</td>\n",
       "    </tr>\n",
       "    <tr>\n",
       "      <th>...</th>\n",
       "      <td>...</td>\n",
       "      <td>...</td>\n",
       "      <td>...</td>\n",
       "      <td>...</td>\n",
       "      <td>...</td>\n",
       "      <td>...</td>\n",
       "      <td>...</td>\n",
       "      <td>...</td>\n",
       "    </tr>\n",
       "    <tr>\n",
       "      <th>61</th>\n",
       "      <td>2020-03-25</td>\n",
       "      <td>25233.0</td>\n",
       "      <td>1331.0</td>\n",
       "      <td>11539.0</td>\n",
       "      <td>3900.0</td>\n",
       "      <td>sante-publique-france</td>\n",
       "      <td>416916.0</td>\n",
       "      <td>18865.0</td>\n",
       "    </tr>\n",
       "    <tr>\n",
       "      <th>62</th>\n",
       "      <td>2020-03-26</td>\n",
       "      <td>29155.0</td>\n",
       "      <td>1696.0</td>\n",
       "      <td>13904.0</td>\n",
       "      <td>4948.0</td>\n",
       "      <td>sante-publique-france</td>\n",
       "      <td>467710.0</td>\n",
       "      <td>20947.0</td>\n",
       "    </tr>\n",
       "    <tr>\n",
       "      <th>63</th>\n",
       "      <td>2020-03-27</td>\n",
       "      <td>32964.0</td>\n",
       "      <td>1995.0</td>\n",
       "      <td>15732.0</td>\n",
       "      <td>0.0</td>\n",
       "      <td>sante-publique-france</td>\n",
       "      <td>528025.0</td>\n",
       "      <td>23672.0</td>\n",
       "    </tr>\n",
       "    <tr>\n",
       "      <th>64</th>\n",
       "      <td>2020-03-28</td>\n",
       "      <td>37575.0</td>\n",
       "      <td>2314.0</td>\n",
       "      <td>17620.0</td>\n",
       "      <td>0.0</td>\n",
       "      <td>sante-publique-france</td>\n",
       "      <td>591971.0</td>\n",
       "      <td>27090.0</td>\n",
       "    </tr>\n",
       "    <tr>\n",
       "      <th>65</th>\n",
       "      <td>2020-03-29</td>\n",
       "      <td>0.0</td>\n",
       "      <td>0.0</td>\n",
       "      <td>0.0</td>\n",
       "      <td>0.0</td>\n",
       "      <td>no-data</td>\n",
       "      <td>0.0</td>\n",
       "      <td>0.0</td>\n",
       "    </tr>\n",
       "  </tbody>\n",
       "</table>\n",
       "<p>66 rows × 8 columns</p>\n",
       "</div>"
      ],
      "text/plain": [
       "          Date  FR Tot Cas Confirmés  FR Tot Décès  FR Tot Guéris  \\\n",
       "0   2020-01-24                   3.0           0.0            3.0   \n",
       "1   2020-01-25                   3.0           0.0            0.0   \n",
       "2   2020-01-26                   3.0           0.0            0.0   \n",
       "3   2020-01-27                   3.0           0.0            3.0   \n",
       "4   2020-01-28                   4.0           0.0            4.0   \n",
       "..         ...                   ...           ...            ...   \n",
       "61  2020-03-25               25233.0        1331.0        11539.0   \n",
       "62  2020-03-26               29155.0        1696.0        13904.0   \n",
       "63  2020-03-27               32964.0        1995.0        15732.0   \n",
       "64  2020-03-28               37575.0        2314.0        17620.0   \n",
       "65  2020-03-29                   0.0           0.0            0.0   \n",
       "\n",
       "    FR Tot Hospitalisés                 Source  WW Tot Cas Confirmés  \\\n",
       "0                   0.0  sante-publique-france                 897.0   \n",
       "1                   0.0  sante-publique-france                1329.0   \n",
       "2                   0.0  sante-publique-france                2026.0   \n",
       "3                   0.0  sante-publique-france                2820.0   \n",
       "4                   0.0  sante-publique-france                   0.0   \n",
       "..                  ...                    ...                   ...   \n",
       "61               3900.0  sante-publique-france              416916.0   \n",
       "62               4948.0  sante-publique-france              467710.0   \n",
       "63                  0.0  sante-publique-france              528025.0   \n",
       "64                  0.0  sante-publique-france              591971.0   \n",
       "65                  0.0                no-data                   0.0   \n",
       "\n",
       "    WW Tot Décès  \n",
       "0           26.0  \n",
       "1           41.0  \n",
       "2           56.0  \n",
       "3           81.0  \n",
       "4            0.0  \n",
       "..           ...  \n",
       "61       18865.0  \n",
       "62       20947.0  \n",
       "63       23672.0  \n",
       "64       27090.0  \n",
       "65           0.0  \n",
       "\n",
       "[66 rows x 8 columns]"
      ]
     },
     "execution_count": 126,
     "metadata": {},
     "output_type": "execute_result"
    }
   ],
   "source": [
    "# RECUPERATION DONNEES SANTE PUBLIQUE FRANCE\n",
    "def RecupereDonneesMinistereSante(yamls):\n",
    "    i=1\n",
    "    dateParcours = dateDebut\n",
    "    print ('--> Démarrage du process')\n",
    "    while (dateParcours != aujourdhui):\n",
    "        myDate = dStartingDate + timedelta(days=i)\n",
    "        dateParcours = myDate.strftime(\"%Y-%m-%d\")\n",
    "        #print(\"Traintement date: \",  dateParcours)\n",
    "        fichier = 'https://raw.githubusercontent.com/opencovid19-fr/data/master/ministere-sante/' + dateParcours + '.yaml'\n",
    "        req = requests.get(fichier)\n",
    "        requesReturnCode = req.status_code\n",
    "        if (requesReturnCode==200):\n",
    "            yamlout = yaml.load(req.text, Loader=yaml.FullLoader)\n",
    "            if (yamls[cols[5]][i-1] == \"no-data\"):\n",
    "                print (\"(*) Modifie les données manquantes pour la date du \", myDate.strftime(\"%Y-%m-%d\"))\n",
    "                # Modifie toute la ligne\n",
    "                yamls[cols[1]][i-1] = recupDataWithException2(yamlout, 'donneesNationales', 'casConfirmes')\n",
    "                yamls[cols[2]][i-1] = recupDataWithException2(yamlout, 'donneesNationales', 'deces')\n",
    "                yamls[cols[3]][i-1] = recupDataWithException2(yamlout, 'donneesMondiales', 'casConfirmes')\n",
    "                yamls[cols[4]][i-1] = recupDataWithException2(yamlout, 'donneesMondiales', 'deces')\n",
    "                yamls[cols[5]][i-1] = \"ministere-sante\"\n",
    "\n",
    "            # Ajoute les nouveaux champs\n",
    "            yamls[cols[6]][i-1] = recupDataWithException2(yamlout, 'donneesNationales', 'hospitalises')\n",
    "            yamls[cols[7]][i-1] = recupDataWithException2(yamlout, 'donneesNationales', 'gueris')\n",
    "        i=i+1\n",
    "    print ('--> Fin du process')\n",
    "    return yamls\n",
    "    \n",
    "data = RecupereDonneesMinistereSante(data)"
   ]
  },
  {
   "cell_type": "markdown",
   "metadata": {},
   "source": [
    "## Comble les \"trous\" sur les no-data"
   ]
  },
  {
   "cell_type": "code",
   "execution_count": 142,
   "metadata": {},
   "outputs": [
    {
     "name": "stderr",
     "output_type": "stream",
     "text": [
      "/opt/anaconda3/lib/python3.7/site-packages/ipykernel_launcher.py:7: SettingWithCopyWarning: \n",
      "A value is trying to be set on a copy of a slice from a DataFrame\n",
      "\n",
      "See the caveats in the documentation: http://pandas.pydata.org/pandas-docs/stable/user_guide/indexing.html#returning-a-view-versus-a-copy\n",
      "  import sys\n"
     ]
    }
   ],
   "source": [
    "def Bouchetrous(yamls):\n",
    "    # On reparcourre toutes les lignes déjà récupérées précédemment\n",
    "    i=1\n",
    "    for index, row in yamls.iterrows():\n",
    "        if (yamls[cols[5]][i-1] == \"no-data\"):\n",
    "            for j in [1, 2, 3, 4, 6, 7]:\n",
    "                yamls[cols[j]][i-1] = yamls[cols[j]][i-2] \n",
    "        i += 1\n",
    "    return yamls\n",
    "\n",
    "data = Bouchetrous(data)\n",
    "data.to_csv(\"datafr.csv\", index=False)"
   ]
  },
  {
   "cell_type": "code",
   "execution_count": 130,
   "metadata": {},
   "outputs": [
    {
     "data": {
      "text/html": [
       "<div>\n",
       "<style scoped>\n",
       "    .dataframe tbody tr th:only-of-type {\n",
       "        vertical-align: middle;\n",
       "    }\n",
       "\n",
       "    .dataframe tbody tr th {\n",
       "        vertical-align: top;\n",
       "    }\n",
       "\n",
       "    .dataframe thead th {\n",
       "        text-align: right;\n",
       "    }\n",
       "</style>\n",
       "<table border=\"1\" class=\"dataframe\">\n",
       "  <thead>\n",
       "    <tr style=\"text-align: right;\">\n",
       "      <th></th>\n",
       "      <th>Date</th>\n",
       "      <th>FR Tot Cas Confirmés</th>\n",
       "      <th>FR Tot Décès</th>\n",
       "      <th>FR Tot Guéris</th>\n",
       "      <th>FR Tot Hospitalisés</th>\n",
       "      <th>Source</th>\n",
       "      <th>WW Tot Cas Confirmés</th>\n",
       "      <th>WW Tot Décès</th>\n",
       "    </tr>\n",
       "  </thead>\n",
       "  <tbody>\n",
       "    <tr>\n",
       "      <th>0</th>\n",
       "      <td>2020-01-24</td>\n",
       "      <td>3.0</td>\n",
       "      <td>0.0</td>\n",
       "      <td>0.0</td>\n",
       "      <td>0.0</td>\n",
       "      <td>sante-publique-france</td>\n",
       "      <td>897.0</td>\n",
       "      <td>26.0</td>\n",
       "    </tr>\n",
       "    <tr>\n",
       "      <th>1</th>\n",
       "      <td>2020-01-25</td>\n",
       "      <td>3.0</td>\n",
       "      <td>0.0</td>\n",
       "      <td>0.0</td>\n",
       "      <td>0.0</td>\n",
       "      <td>sante-publique-france</td>\n",
       "      <td>1329.0</td>\n",
       "      <td>41.0</td>\n",
       "    </tr>\n",
       "    <tr>\n",
       "      <th>2</th>\n",
       "      <td>2020-01-26</td>\n",
       "      <td>3.0</td>\n",
       "      <td>0.0</td>\n",
       "      <td>0.0</td>\n",
       "      <td>0.0</td>\n",
       "      <td>sante-publique-france</td>\n",
       "      <td>2026.0</td>\n",
       "      <td>56.0</td>\n",
       "    </tr>\n",
       "    <tr>\n",
       "      <th>3</th>\n",
       "      <td>2020-01-27</td>\n",
       "      <td>3.0</td>\n",
       "      <td>0.0</td>\n",
       "      <td>0.0</td>\n",
       "      <td>0.0</td>\n",
       "      <td>sante-publique-france</td>\n",
       "      <td>2820.0</td>\n",
       "      <td>81.0</td>\n",
       "    </tr>\n",
       "    <tr>\n",
       "      <th>4</th>\n",
       "      <td>2020-01-28</td>\n",
       "      <td>4.0</td>\n",
       "      <td>0.0</td>\n",
       "      <td>0.0</td>\n",
       "      <td>0.0</td>\n",
       "      <td>sante-publique-france</td>\n",
       "      <td>0.0</td>\n",
       "      <td>0.0</td>\n",
       "    </tr>\n",
       "    <tr>\n",
       "      <th>...</th>\n",
       "      <td>...</td>\n",
       "      <td>...</td>\n",
       "      <td>...</td>\n",
       "      <td>...</td>\n",
       "      <td>...</td>\n",
       "      <td>...</td>\n",
       "      <td>...</td>\n",
       "      <td>...</td>\n",
       "    </tr>\n",
       "    <tr>\n",
       "      <th>61</th>\n",
       "      <td>2020-03-25</td>\n",
       "      <td>25233.0</td>\n",
       "      <td>1331.0</td>\n",
       "      <td>0.0</td>\n",
       "      <td>0.0</td>\n",
       "      <td>sante-publique-france</td>\n",
       "      <td>416916.0</td>\n",
       "      <td>18865.0</td>\n",
       "    </tr>\n",
       "    <tr>\n",
       "      <th>62</th>\n",
       "      <td>2020-03-26</td>\n",
       "      <td>29155.0</td>\n",
       "      <td>1696.0</td>\n",
       "      <td>0.0</td>\n",
       "      <td>0.0</td>\n",
       "      <td>sante-publique-france</td>\n",
       "      <td>467710.0</td>\n",
       "      <td>20947.0</td>\n",
       "    </tr>\n",
       "    <tr>\n",
       "      <th>63</th>\n",
       "      <td>2020-03-27</td>\n",
       "      <td>32964.0</td>\n",
       "      <td>1995.0</td>\n",
       "      <td>0.0</td>\n",
       "      <td>0.0</td>\n",
       "      <td>sante-publique-france</td>\n",
       "      <td>528025.0</td>\n",
       "      <td>23672.0</td>\n",
       "    </tr>\n",
       "    <tr>\n",
       "      <th>64</th>\n",
       "      <td>2020-03-28</td>\n",
       "      <td>37575.0</td>\n",
       "      <td>2314.0</td>\n",
       "      <td>0.0</td>\n",
       "      <td>0.0</td>\n",
       "      <td>sante-publique-france</td>\n",
       "      <td>591971.0</td>\n",
       "      <td>27090.0</td>\n",
       "    </tr>\n",
       "    <tr>\n",
       "      <th>65</th>\n",
       "      <td>2020-03-29</td>\n",
       "      <td>0.0</td>\n",
       "      <td>0.0</td>\n",
       "      <td>0.0</td>\n",
       "      <td>0.0</td>\n",
       "      <td>no-data</td>\n",
       "      <td>0.0</td>\n",
       "      <td>0.0</td>\n",
       "    </tr>\n",
       "  </tbody>\n",
       "</table>\n",
       "<p>66 rows × 8 columns</p>\n",
       "</div>"
      ],
      "text/plain": [
       "          Date  FR Tot Cas Confirmés  FR Tot Décès  FR Tot Guéris  \\\n",
       "0   2020-01-24                   3.0           0.0            0.0   \n",
       "1   2020-01-25                   3.0           0.0            0.0   \n",
       "2   2020-01-26                   3.0           0.0            0.0   \n",
       "3   2020-01-27                   3.0           0.0            0.0   \n",
       "4   2020-01-28                   4.0           0.0            0.0   \n",
       "..         ...                   ...           ...            ...   \n",
       "61  2020-03-25               25233.0        1331.0            0.0   \n",
       "62  2020-03-26               29155.0        1696.0            0.0   \n",
       "63  2020-03-27               32964.0        1995.0            0.0   \n",
       "64  2020-03-28               37575.0        2314.0            0.0   \n",
       "65  2020-03-29                   0.0           0.0            0.0   \n",
       "\n",
       "    FR Tot Hospitalisés                 Source  WW Tot Cas Confirmés  \\\n",
       "0                   0.0  sante-publique-france                 897.0   \n",
       "1                   0.0  sante-publique-france                1329.0   \n",
       "2                   0.0  sante-publique-france                2026.0   \n",
       "3                   0.0  sante-publique-france                2820.0   \n",
       "4                   0.0  sante-publique-france                   0.0   \n",
       "..                  ...                    ...                   ...   \n",
       "61                  0.0  sante-publique-france              416916.0   \n",
       "62                  0.0  sante-publique-france              467710.0   \n",
       "63                  0.0  sante-publique-france              528025.0   \n",
       "64                  0.0  sante-publique-france              591971.0   \n",
       "65                  0.0                no-data                   0.0   \n",
       "\n",
       "    WW Tot Décès  \n",
       "0           26.0  \n",
       "1           41.0  \n",
       "2           56.0  \n",
       "3           81.0  \n",
       "4            0.0  \n",
       "..           ...  \n",
       "61       18865.0  \n",
       "62       20947.0  \n",
       "63       23672.0  \n",
       "64       27090.0  \n",
       "65           0.0  \n",
       "\n",
       "[66 rows x 8 columns]"
      ]
     },
     "execution_count": 130,
     "metadata": {},
     "output_type": "execute_result"
    }
   ],
   "source": [
    "yamls"
   ]
  },
  {
   "cell_type": "code",
   "execution_count": 138,
   "metadata": {},
   "outputs": [
    {
     "data": {
      "text/plain": [
       "3.0"
      ]
     },
     "execution_count": 138,
     "metadata": {},
     "output_type": "execute_result"
    }
   ],
   "source": [
    "#yamls[cols[j]][1]\n",
    "yamls.loc[1][cols[1]]"
   ]
  },
  {
   "cell_type": "code",
   "execution_count": null,
   "metadata": {},
   "outputs": [],
   "source": []
  }
 ],
 "metadata": {
  "kernelspec": {
   "display_name": "Python 3",
   "language": "python",
   "name": "python3"
  },
  "language_info": {
   "codemirror_mode": {
    "name": "ipython",
    "version": 3
   },
   "file_extension": ".py",
   "mimetype": "text/x-python",
   "name": "python",
   "nbconvert_exporter": "python",
   "pygments_lexer": "ipython3",
   "version": "3.7.6"
  }
 },
 "nbformat": 4,
 "nbformat_minor": 4
}
