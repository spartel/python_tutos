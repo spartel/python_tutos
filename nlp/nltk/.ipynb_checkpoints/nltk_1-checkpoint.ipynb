{
 "cells": [
  {
   "cell_type": "markdown",
   "metadata": {},
   "source": [
    "pip install nltk"
   ]
  },
  {
   "cell_type": "code",
   "execution_count": 1,
   "metadata": {},
   "outputs": [
    {
     "name": "stdout",
     "output_type": "stream",
     "text": [
      "showing info https://raw.githubusercontent.com/nltk/nltk_data/gh-pages/index.xml\n"
     ]
    },
    {
     "data": {
      "text/plain": [
       "True"
      ]
     },
     "execution_count": 1,
     "metadata": {},
     "output_type": "execute_result"
    }
   ],
   "source": [
    "import nltk\n",
    "nltk.download()"
   ]
  },
  {
   "cell_type": "code",
   "execution_count": 23,
   "metadata": {},
   "outputs": [],
   "source": [
    "from nltk.corpus import stopwords\n",
    "from nltk import word_tokenize as wt\n",
    "import re"
   ]
  },
  {
   "cell_type": "code",
   "execution_count": 16,
   "metadata": {},
   "outputs": [],
   "source": [
    "french_stopwords = set(stopwords.words('french'))"
   ]
  },
  {
   "cell_type": "code",
   "execution_count": 17,
   "metadata": {},
   "outputs": [],
   "source": [
    "filt_out =  lambda text: [token for token in text if token.lower() not in french_stopwords]"
   ]
  },
  {
   "cell_type": "code",
   "execution_count": 20,
   "metadata": {},
   "outputs": [],
   "source": [
    "data = u\"\"\"Wikipédia est un projet d’encyclopédie collective en ligne, universelle, multilingue et fonctionnant sur le principe du wiki. Ce projet vise à offrir un contenu librement réutilisable, objectif et vérifiable, que chacun peut modifier et améliorer.\"\"\""
   ]
  },
  {
   "cell_type": "code",
   "execution_count": 21,
   "metadata": {},
   "outputs": [
    {
     "data": {
      "text/plain": [
       "['Wikipédia',\n",
       " 'est',\n",
       " 'un',\n",
       " 'projet',\n",
       " 'd',\n",
       " '’',\n",
       " 'encyclopédie',\n",
       " 'collective',\n",
       " 'en',\n",
       " 'ligne',\n",
       " ',',\n",
       " 'universelle',\n",
       " ',',\n",
       " 'multilingue',\n",
       " 'et',\n",
       " 'fonctionnant',\n",
       " 'sur',\n",
       " 'le',\n",
       " 'principe',\n",
       " 'du',\n",
       " 'wiki',\n",
       " '.',\n",
       " 'Ce',\n",
       " 'projet',\n",
       " 'vise',\n",
       " 'à',\n",
       " 'offrir',\n",
       " 'un',\n",
       " 'contenu',\n",
       " 'librement',\n",
       " 'réutilisable',\n",
       " ',',\n",
       " 'objectif',\n",
       " 'et',\n",
       " 'vérifiable',\n",
       " ',',\n",
       " 'que',\n",
       " 'chacun',\n",
       " 'peut',\n",
       " 'modifier',\n",
       " 'et',\n",
       " 'améliorer',\n",
       " '.']"
      ]
     },
     "execution_count": 21,
     "metadata": {},
     "output_type": "execute_result"
    }
   ],
   "source": [
    "wt(data, language=\"french\")"
   ]
  },
  {
   "cell_type": "code",
   "execution_count": 22,
   "metadata": {},
   "outputs": [
    {
     "data": {
      "text/plain": [
       "['Wikipédia',\n",
       " 'projet',\n",
       " '’',\n",
       " 'encyclopédie',\n",
       " 'collective',\n",
       " 'ligne',\n",
       " ',',\n",
       " 'universelle',\n",
       " ',',\n",
       " 'multilingue',\n",
       " 'fonctionnant',\n",
       " 'principe',\n",
       " 'wiki',\n",
       " '.',\n",
       " 'projet',\n",
       " 'vise',\n",
       " 'offrir',\n",
       " 'contenu',\n",
       " 'librement',\n",
       " 'réutilisable',\n",
       " ',',\n",
       " 'objectif',\n",
       " 'vérifiable',\n",
       " ',',\n",
       " 'chacun',\n",
       " 'peut',\n",
       " 'modifier',\n",
       " 'améliorer',\n",
       " '.']"
      ]
     },
     "execution_count": 22,
     "metadata": {},
     "output_type": "execute_result"
    }
   ],
   "source": [
    "filt_out( wt(data, language=\"french\"))"
   ]
  },
  {
   "cell_type": "code",
   "execution_count": 27,
   "metadata": {},
   "outputs": [],
   "source": [
    "sp_pattern = re.compile( \"\"\"[\\.\\!\\\"\\s\\?\\-\\,\\']+\"\"\", re.M).split"
   ]
  },
  {
   "cell_type": "code",
   "execution_count": 30,
   "metadata": {},
   "outputs": [
    {
     "data": {
      "text/plain": [
       "['Wikipédia',\n",
       " 'est',\n",
       " 'un',\n",
       " 'projet',\n",
       " 'd’encyclopédie',\n",
       " 'collective',\n",
       " 'en',\n",
       " 'ligne',\n",
       " 'universelle',\n",
       " 'multilingue',\n",
       " 'et',\n",
       " 'fonctionnant',\n",
       " 'sur',\n",
       " 'le',\n",
       " 'principe',\n",
       " 'du',\n",
       " 'wiki',\n",
       " 'Ce',\n",
       " 'projet',\n",
       " 'vise',\n",
       " 'à',\n",
       " 'offrir',\n",
       " 'un',\n",
       " 'contenu',\n",
       " 'librement',\n",
       " 'réutilisable',\n",
       " 'objectif',\n",
       " 'et',\n",
       " 'vérifiable',\n",
       " 'que',\n",
       " 'chacun',\n",
       " 'peut',\n",
       " 'modifier',\n",
       " 'et',\n",
       " 'améliorer',\n",
       " '']"
      ]
     },
     "execution_count": 30,
     "metadata": {},
     "output_type": "execute_result"
    }
   ],
   "source": [
    "sp_pattern(data)"
   ]
  },
  {
   "cell_type": "code",
   "execution_count": null,
   "metadata": {},
   "outputs": [],
   "source": []
  }
 ],
 "metadata": {
  "kernelspec": {
   "display_name": "Python 3",
   "language": "python",
   "name": "python3"
  },
  "language_info": {
   "codemirror_mode": {
    "name": "ipython",
    "version": 3
   },
   "file_extension": ".py",
   "mimetype": "text/x-python",
   "name": "python",
   "nbconvert_exporter": "python",
   "pygments_lexer": "ipython3",
   "version": "3.7.6"
  }
 },
 "nbformat": 4,
 "nbformat_minor": 4
}
